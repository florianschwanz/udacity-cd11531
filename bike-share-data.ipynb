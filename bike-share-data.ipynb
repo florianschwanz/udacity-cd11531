{
 "cells": [
  {
   "cell_type": "markdown",
   "metadata": {
    "application/vnd.databricks.v1+cell": {
     "cellMetadata": {
      "byteLimit": 2048000,
      "rowLimit": 10000
     },
     "inputWidgets": {},
     "nuid": "96816ed7-b08a-4ca3-abb9-f99880c3535d",
     "showTitle": false,
     "tableResultSettingsMap": {},
     "title": ""
    }
   },
   "source": [
    "\n",
    "# Bike Share Data"
   ]
  },
  {
   "cell_type": "markdown",
   "metadata": {
    "application/vnd.databricks.v1+cell": {
     "cellMetadata": {
      "byteLimit": 2048000,
      "rowLimit": 10000
     },
     "inputWidgets": {},
     "nuid": "f527e682-d12f-442e-abb4-d7e833cee066",
     "showTitle": false,
     "tableResultSettingsMap": {},
     "title": ""
    }
   },
   "source": [
    "\n",
    "## Extract Step: Read data from csv and store it as delta"
   ]
  },
  {
   "cell_type": "markdown",
   "metadata": {
    "application/vnd.databricks.v1+cell": {
     "cellMetadata": {
      "byteLimit": 2048000,
      "rowLimit": 10000
     },
     "inputWidgets": {},
     "nuid": "ad4da61b-6bfb-4917-92af-3aeaf6a7ddcc",
     "showTitle": false,
     "tableResultSettingsMap": {},
     "title": ""
    }
   },
   "source": [
    "### Read stations.csv"
   ]
  },
  {
   "cell_type": "code",
   "execution_count": 0,
   "metadata": {
    "application/vnd.databricks.v1+cell": {
     "cellMetadata": {
      "byteLimit": 2048000,
      "rowLimit": 10000
     },
     "inputWidgets": {},
     "nuid": "17d52043-9e1c-4039-8832-db9597dd7871",
     "showTitle": false,
     "tableResultSettingsMap": {},
     "title": ""
    }
   },
   "outputs": [
    {
     "output_type": "display_data",
     "data": {
      "text/html": [
       "<style scoped>\n",
       "  .table-result-container {\n",
       "    max-height: 300px;\n",
       "    overflow: auto;\n",
       "  }\n",
       "  table, th, td {\n",
       "    border: 1px solid black;\n",
       "    border-collapse: collapse;\n",
       "  }\n",
       "  th, td {\n",
       "    padding: 5px;\n",
       "  }\n",
       "  th {\n",
       "    text-align: left;\n",
       "  }\n",
       "</style><div class='table-result-container'><table class='table-result'><thead style='background-color: white'><tr><th>station_id</th><th>name</th><th>latitude</th><th>longitude</th></tr></thead><tbody><tr><td>KA1503000012</td><td>Clark St & Lake St</td><td>41.88579559326172</td><td>-87.631103515625</td></tr><tr><td>637</td><td>Wood St & Chicago Ave</td><td>41.895633697509766</td><td>-87.67206573486328</td></tr><tr><td>13216</td><td>State St & 33rd St</td><td>41.83473205566406</td><td>-87.62582397460938</td></tr><tr><td>18003</td><td>Fairbanks St & Superior St</td><td>41.895809173583984</td><td>-87.62025451660156</td></tr><tr><td>KP1705001026</td><td>LaSalle Dr & Huron St</td><td>41.89487838745117</td><td>-87.63232421875</td></tr><tr><td>13253</td><td>Lincoln Ave & Waveland Ave</td><td>41.948795318603516</td><td>-87.67527770996094</td></tr><tr><td>KA1503000044</td><td>Rush St & Hubbard St</td><td>41.890174865722656</td><td>-87.62618255615234</td></tr><tr><td>KA1504000140</td><td>Winchester Ave & Elston Ave</td><td>41.92403793334961</td><td>-87.6764144897461</td></tr><tr><td>TA1305000032</td><td>Clinton St & Madison St</td><td>41.882240295410156</td><td>-87.64106750488281</td></tr><tr><td>TA1306000012</td><td>Wells St & Huron St</td><td>41.894752502441406</td><td>-87.6343994140625</td></tr></tbody></table></div>"
      ]
     },
     "metadata": {
      "application/vnd.databricks.v1+output": {
       "addedWidgets": {},
       "aggData": [],
       "aggError": "",
       "aggOverflow": false,
       "aggSchema": [],
       "aggSeriesLimitReached": false,
       "aggType": "",
       "arguments": {},
       "columnCustomDisplayInfos": {},
       "data": [
        [
         "KA1503000012",
         "Clark St & Lake St",
         41.88579559326172,
         -87.631103515625
        ],
        [
         "637",
         "Wood St & Chicago Ave",
         41.895633697509766,
         -87.67206573486328
        ],
        [
         "13216",
         "State St & 33rd St",
         41.83473205566406,
         -87.62582397460938
        ],
        [
         "18003",
         "Fairbanks St & Superior St",
         41.895809173583984,
         -87.62025451660156
        ],
        [
         "KP1705001026",
         "LaSalle Dr & Huron St",
         41.89487838745117,
         -87.63232421875
        ],
        [
         "13253",
         "Lincoln Ave & Waveland Ave",
         41.948795318603516,
         -87.67527770996094
        ],
        [
         "KA1503000044",
         "Rush St & Hubbard St",
         41.890174865722656,
         -87.62618255615234
        ],
        [
         "KA1504000140",
         "Winchester Ave & Elston Ave",
         41.92403793334961,
         -87.6764144897461
        ],
        [
         "TA1305000032",
         "Clinton St & Madison St",
         41.882240295410156,
         -87.64106750488281
        ],
        [
         "TA1306000012",
         "Wells St & Huron St",
         41.894752502441406,
         -87.6343994140625
        ]
       ],
       "datasetInfos": [],
       "dbfsResultPath": null,
       "isJsonSchema": true,
       "metadata": {},
       "overflow": false,
       "plotOptions": {
        "customPlotOptions": {},
        "displayType": "table",
        "pivotAggregation": null,
        "pivotColumns": null,
        "xColumns": null,
        "yColumns": null
       },
       "removedWidgets": [],
       "schema": [
        {
         "metadata": "{}",
         "name": "station_id",
         "type": "\"string\""
        },
        {
         "metadata": "{}",
         "name": "name",
         "type": "\"string\""
        },
        {
         "metadata": "{}",
         "name": "latitude",
         "type": "\"double\""
        },
        {
         "metadata": "{}",
         "name": "longitude",
         "type": "\"double\""
        }
       ],
       "type": "table"
      }
     }
    }
   ],
   "source": [
    "from pyspark.sql.types import StructType, StructField, StringType, FloatType\n",
    "\n",
    "# Specify schema\n",
    "schema = StructType([\n",
    "  StructField(\"station_id\", StringType(), True),\n",
    "  StructField(\"name\", StringType(), True),\n",
    "  StructField(\"latitude\", FloatType(), True),\n",
    "  StructField(\"longitude\", FloatType(), True)\n",
    "])\n",
    "\n",
    "# Read csv\n",
    "df = spark.read.format(\"csv\") \\\n",
    "  .option(\"inferSchema\", \"false\") \\\n",
    "  .option(\"header\", \"true\") \\\n",
    "  .option(\"sep\", \",\") \\\n",
    "  .schema(schema) \\\n",
    "  .load(f\"/FileStore/data/bike-sharing/stations.csv\")\n",
    "\n",
    "display(df.take(10))\n",
    "\n",
    "# Write to delta\n",
    "df.write.format(\"delta\").mode(\"overwrite\").save(\"/delta/bike-sharing/bronze_stations\")"
   ]
  },
  {
   "cell_type": "markdown",
   "metadata": {
    "application/vnd.databricks.v1+cell": {
     "cellMetadata": {
      "byteLimit": 2048000,
      "rowLimit": 10000
     },
     "inputWidgets": {},
     "nuid": "ee8893fb-0142-474f-8ead-83b28fa7cb1a",
     "showTitle": false,
     "tableResultSettingsMap": {},
     "title": ""
    }
   },
   "source": [
    "### Read riders.csv"
   ]
  },
  {
   "cell_type": "code",
   "execution_count": 0,
   "metadata": {
    "application/vnd.databricks.v1+cell": {
     "cellMetadata": {
      "byteLimit": 2048000,
      "rowLimit": 10000
     },
     "inputWidgets": {},
     "nuid": "eb65c6dd-3c8f-4226-a51b-ee3bdf879038",
     "showTitle": false,
     "tableResultSettingsMap": {},
     "title": ""
    }
   },
   "outputs": [
    {
     "output_type": "display_data",
     "data": {
      "text/html": [
       "<style scoped>\n",
       "  .table-result-container {\n",
       "    max-height: 300px;\n",
       "    overflow: auto;\n",
       "  }\n",
       "  table, th, td {\n",
       "    border: 1px solid black;\n",
       "    border-collapse: collapse;\n",
       "  }\n",
       "  th, td {\n",
       "    padding: 5px;\n",
       "  }\n",
       "  th {\n",
       "    text-align: left;\n",
       "  }\n",
       "</style><div class='table-result-container'><table class='table-result'><thead style='background-color: white'><tr><th>rider_id</th><th>first</th><th>last</th><th>address</th><th>birthday</th><th>account_start_date</th><th>account_end_date</th><th>is_member</th></tr></thead><tbody><tr><td>1001</td><td>Jennifer</td><td>Smith</td><td>397 Diana Ferry</td><td>1976-08-10</td><td>2019-11-01</td><td>2020-09-01</td><td>true</td></tr><tr><td>1002</td><td>Karen</td><td>Smith</td><td>644 Brittany Row Apt. 097</td><td>1998-08-10</td><td>2022-02-04</td><td>null</td><td>true</td></tr><tr><td>1003</td><td>Bryan</td><td>Roberts</td><td>996 Dickerson Turnpike</td><td>1999-03-29</td><td>2019-08-26</td><td>null</td><td>false</td></tr><tr><td>1004</td><td>Jesse</td><td>Middleton</td><td>7009 Nathan Expressway</td><td>1969-04-11</td><td>2019-09-14</td><td>null</td><td>true</td></tr><tr><td>1005</td><td>Christine</td><td>Rodriguez</td><td>224 Washington Mills Apt. 467</td><td>1974-08-27</td><td>2020-03-24</td><td>null</td><td>false</td></tr><tr><td>1006</td><td>Alicia</td><td>Taylor</td><td>1137 Angela Locks</td><td>2004-01-30</td><td>2020-11-27</td><td>2021-12-01</td><td>true</td></tr><tr><td>1007</td><td>Benjamin</td><td>Fernandez</td><td>979 Phillips Ways</td><td>1988-01-11</td><td>2016-12-11</td><td>null</td><td>false</td></tr><tr><td>1008</td><td>John</td><td>Crawford</td><td>7691 Evans Court</td><td>1987-02-21</td><td>2021-03-28</td><td>2021-07-01</td><td>true</td></tr><tr><td>1009</td><td>Victoria</td><td>Ritter</td><td>9922 Jim Crest Apt. 319</td><td>1981-02-07</td><td>2020-06-12</td><td>2021-11-01</td><td>true</td></tr><tr><td>1010</td><td>Tracy</td><td>Austin</td><td>92973 Mary Ville</td><td>1996-04-07</td><td>2019-12-27</td><td>null</td><td>true</td></tr></tbody></table></div>"
      ]
     },
     "metadata": {
      "application/vnd.databricks.v1+output": {
       "addedWidgets": {},
       "aggData": [],
       "aggError": "",
       "aggOverflow": false,
       "aggSchema": [],
       "aggSeriesLimitReached": false,
       "aggType": "",
       "arguments": {},
       "columnCustomDisplayInfos": {},
       "data": [
        [
         1001,
         "Jennifer",
         "Smith",
         "397 Diana Ferry",
         "1976-08-10",
         "2019-11-01",
         "2020-09-01",
         true
        ],
        [
         1002,
         "Karen",
         "Smith",
         "644 Brittany Row Apt. 097",
         "1998-08-10",
         "2022-02-04",
         null,
         true
        ],
        [
         1003,
         "Bryan",
         "Roberts",
         "996 Dickerson Turnpike",
         "1999-03-29",
         "2019-08-26",
         null,
         false
        ],
        [
         1004,
         "Jesse",
         "Middleton",
         "7009 Nathan Expressway",
         "1969-04-11",
         "2019-09-14",
         null,
         true
        ],
        [
         1005,
         "Christine",
         "Rodriguez",
         "224 Washington Mills Apt. 467",
         "1974-08-27",
         "2020-03-24",
         null,
         false
        ],
        [
         1006,
         "Alicia",
         "Taylor",
         "1137 Angela Locks",
         "2004-01-30",
         "2020-11-27",
         "2021-12-01",
         true
        ],
        [
         1007,
         "Benjamin",
         "Fernandez",
         "979 Phillips Ways",
         "1988-01-11",
         "2016-12-11",
         null,
         false
        ],
        [
         1008,
         "John",
         "Crawford",
         "7691 Evans Court",
         "1987-02-21",
         "2021-03-28",
         "2021-07-01",
         true
        ],
        [
         1009,
         "Victoria",
         "Ritter",
         "9922 Jim Crest Apt. 319",
         "1981-02-07",
         "2020-06-12",
         "2021-11-01",
         true
        ],
        [
         1010,
         "Tracy",
         "Austin",
         "92973 Mary Ville",
         "1996-04-07",
         "2019-12-27",
         null,
         true
        ]
       ],
       "datasetInfos": [],
       "dbfsResultPath": null,
       "isJsonSchema": true,
       "metadata": {},
       "overflow": false,
       "plotOptions": {
        "customPlotOptions": {},
        "displayType": "table",
        "pivotAggregation": null,
        "pivotColumns": null,
        "xColumns": null,
        "yColumns": null
       },
       "removedWidgets": [],
       "schema": [
        {
         "metadata": "{}",
         "name": "rider_id",
         "type": "\"long\""
        },
        {
         "metadata": "{}",
         "name": "first",
         "type": "\"string\""
        },
        {
         "metadata": "{}",
         "name": "last",
         "type": "\"string\""
        },
        {
         "metadata": "{}",
         "name": "address",
         "type": "\"string\""
        },
        {
         "metadata": "{}",
         "name": "birthday",
         "type": "\"date\""
        },
        {
         "metadata": "{}",
         "name": "account_start_date",
         "type": "\"date\""
        },
        {
         "metadata": "{}",
         "name": "account_end_date",
         "type": "\"date\""
        },
        {
         "metadata": "{}",
         "name": "is_member",
         "type": "\"boolean\""
        }
       ],
       "type": "table"
      }
     }
    }
   ],
   "source": [
    "from pyspark.sql.types import StructType, StructField, IntegerType, StringType, DateType, BooleanType\n",
    "\n",
    "# Specify schema\n",
    "schema = StructType([\n",
    "  StructField(\"rider_id\", IntegerType(), True),\n",
    "  StructField(\"first\", StringType(), True),\n",
    "  StructField(\"last\", StringType(), True),\n",
    "  StructField(\"address\", StringType(), True),\n",
    "  StructField(\"birthday\", DateType(), True),\n",
    "  StructField(\"account_start_date\", DateType(), True),\n",
    "  StructField(\"account_end_date\", DateType(), True),\n",
    "  StructField(\"is_member\", BooleanType(), True)\n",
    "])\n",
    "\n",
    "# Read csv\n",
    "df = spark.read.format(\"csv\") \\\n",
    "  .option(\"inferSchema\", \"false\") \\\n",
    "  .option(\"header\", \"true\") \\\n",
    "  .option(\"sep\", \",\") \\\n",
    "  .schema(schema) \\\n",
    "  .load(f\"/FileStore/data/bike-sharing/riders.csv\")\n",
    "\n",
    "display(df.take(10))\n",
    "\n",
    "# Write to delta\n",
    "df.write.format(\"delta\").mode(\"overwrite\").save(\"/delta/bike-sharing/bronze_riders\")"
   ]
  },
  {
   "cell_type": "markdown",
   "metadata": {
    "application/vnd.databricks.v1+cell": {
     "cellMetadata": {
      "byteLimit": 2048000,
      "rowLimit": 10000
     },
     "inputWidgets": {},
     "nuid": "e6760cdd-9ad4-42d4-8c93-ce1b90a403bb",
     "showTitle": false,
     "tableResultSettingsMap": {},
     "title": ""
    }
   },
   "source": [
    "### Read payments.csv"
   ]
  },
  {
   "cell_type": "code",
   "execution_count": 0,
   "metadata": {
    "application/vnd.databricks.v1+cell": {
     "cellMetadata": {
      "byteLimit": 2048000,
      "rowLimit": 10000
     },
     "inputWidgets": {},
     "nuid": "ee5b6cc7-33fa-43ff-9fd4-19bf6bb02dba",
     "showTitle": false,
     "tableResultSettingsMap": {},
     "title": ""
    }
   },
   "outputs": [
    {
     "output_type": "display_data",
     "data": {
      "text/html": [
       "<style scoped>\n",
       "  .table-result-container {\n",
       "    max-height: 300px;\n",
       "    overflow: auto;\n",
       "  }\n",
       "  table, th, td {\n",
       "    border: 1px solid black;\n",
       "    border-collapse: collapse;\n",
       "  }\n",
       "  th, td {\n",
       "    padding: 5px;\n",
       "  }\n",
       "  th {\n",
       "    text-align: left;\n",
       "  }\n",
       "</style><div class='table-result-container'><table class='table-result'><thead style='background-color: white'><tr><th>payment_id</th><th>date</th><th>amount</th><th>rider_id</th></tr></thead><tbody><tr><td>2</td><td>2019-06-01</td><td>9.000000000000000000</td><td>1000</td></tr><tr><td>3</td><td>2019-07-01</td><td>9.000000000000000000</td><td>1000</td></tr><tr><td>4</td><td>2019-08-01</td><td>9.000000000000000000</td><td>1000</td></tr><tr><td>5</td><td>2019-09-01</td><td>9.000000000000000000</td><td>1000</td></tr><tr><td>6</td><td>2019-10-01</td><td>9.000000000000000000</td><td>1000</td></tr><tr><td>7</td><td>2019-11-01</td><td>9.000000000000000000</td><td>1000</td></tr><tr><td>8</td><td>2019-12-01</td><td>9.000000000000000000</td><td>1000</td></tr><tr><td>9</td><td>2020-01-01</td><td>9.000000000000000000</td><td>1000</td></tr><tr><td>10</td><td>2020-02-01</td><td>9.000000000000000000</td><td>1000</td></tr><tr><td>11</td><td>2020-03-01</td><td>9.000000000000000000</td><td>1000</td></tr></tbody></table></div>"
      ]
     },
     "metadata": {
      "application/vnd.databricks.v1+output": {
       "addedWidgets": {},
       "aggData": [],
       "aggError": "",
       "aggOverflow": false,
       "aggSchema": [],
       "aggSeriesLimitReached": false,
       "aggType": "",
       "arguments": {},
       "columnCustomDisplayInfos": {},
       "data": [
        [
         2,
         "2019-06-01",
         "9.000000000000000000",
         1000
        ],
        [
         3,
         "2019-07-01",
         "9.000000000000000000",
         1000
        ],
        [
         4,
         "2019-08-01",
         "9.000000000000000000",
         1000
        ],
        [
         5,
         "2019-09-01",
         "9.000000000000000000",
         1000
        ],
        [
         6,
         "2019-10-01",
         "9.000000000000000000",
         1000
        ],
        [
         7,
         "2019-11-01",
         "9.000000000000000000",
         1000
        ],
        [
         8,
         "2019-12-01",
         "9.000000000000000000",
         1000
        ],
        [
         9,
         "2020-01-01",
         "9.000000000000000000",
         1000
        ],
        [
         10,
         "2020-02-01",
         "9.000000000000000000",
         1000
        ],
        [
         11,
         "2020-03-01",
         "9.000000000000000000",
         1000
        ]
       ],
       "datasetInfos": [],
       "dbfsResultPath": null,
       "isJsonSchema": true,
       "metadata": {},
       "overflow": false,
       "plotOptions": {
        "customPlotOptions": {},
        "displayType": "table",
        "pivotAggregation": null,
        "pivotColumns": null,
        "xColumns": null,
        "yColumns": null
       },
       "removedWidgets": [],
       "schema": [
        {
         "metadata": "{}",
         "name": "payment_id",
         "type": "\"long\""
        },
        {
         "metadata": "{}",
         "name": "date",
         "type": "\"date\""
        },
        {
         "metadata": "{}",
         "name": "amount",
         "type": "\"decimal(38,18)\""
        },
        {
         "metadata": "{}",
         "name": "rider_id",
         "type": "\"long\""
        }
       ],
       "type": "table"
      }
     }
    }
   ],
   "source": [
    "from pyspark.sql.types import StructType, StructField, IntegerType, StringType, DecimalType, DateType\n",
    "\n",
    "# Specify schema\n",
    "schema = StructType([\n",
    "  StructField(\"payment_id\", IntegerType(), True),\n",
    "  StructField(\"date\", DateType(), True),\n",
    "  StructField(\"amount\", DecimalType(), True),\n",
    "  StructField(\"rider_id\", IntegerType(), True),\n",
    "])\n",
    "\n",
    "# Read csv\n",
    "df = spark.read.format(\"csv\") \\\n",
    "  .option(\"inferSchema\", \"false\") \\\n",
    "  .option(\"header\", \"true\") \\\n",
    "  .option(\"sep\", \",\") \\\n",
    "  .schema(schema) \\\n",
    "  .load(f\"/FileStore/data/bike-sharing/payments.csv\")\n",
    "\n",
    "display(df.take(10))\n",
    "\n",
    "# Write to delta\n",
    "df.write.format(\"delta\").mode(\"overwrite\").save(\"/delta/bike-sharing/bronze_payments\")"
   ]
  },
  {
   "cell_type": "markdown",
   "metadata": {
    "application/vnd.databricks.v1+cell": {
     "cellMetadata": {
      "byteLimit": 2048000,
      "rowLimit": 10000
     },
     "inputWidgets": {},
     "nuid": "61ed87d9-e62b-4f1a-ab84-9efa1f7158bb",
     "showTitle": false,
     "tableResultSettingsMap": {},
     "title": ""
    }
   },
   "source": [
    "### Read trips.csv"
   ]
  },
  {
   "cell_type": "code",
   "execution_count": 0,
   "metadata": {
    "application/vnd.databricks.v1+cell": {
     "cellMetadata": {
      "byteLimit": 2048000,
      "rowLimit": 10000
     },
     "inputWidgets": {},
     "nuid": "06c7b280-0257-489a-9e53-5a83d88e8775",
     "showTitle": false,
     "tableResultSettingsMap": {},
     "title": ""
    }
   },
   "outputs": [
    {
     "output_type": "display_data",
     "data": {
      "text/html": [
       "<style scoped>\n",
       "  .table-result-container {\n",
       "    max-height: 300px;\n",
       "    overflow: auto;\n",
       "  }\n",
       "  table, th, td {\n",
       "    border: 1px solid black;\n",
       "    border-collapse: collapse;\n",
       "  }\n",
       "  th, td {\n",
       "    padding: 5px;\n",
       "  }\n",
       "  th {\n",
       "    text-align: left;\n",
       "  }\n",
       "</style><div class='table-result-container'><table class='table-result'><thead style='background-color: white'><tr><th>trip_id</th><th>rideable_type</th><th>started_at</th><th>ended_at</th><th>start_station_id</th><th>end_station_id</th><th>rider_id</th></tr></thead><tbody><tr><td>0FEFDE2603568365</td><td>classic_bike</td><td>2021-02-14T17:52:38Z</td><td>2021-02-14T18:12:09Z</td><td>525</td><td>16806</td><td>47854</td></tr><tr><td>E6159D746B2DBB91</td><td>electric_bike</td><td>2021-02-09T19:10:18Z</td><td>2021-02-09T19:19:10Z</td><td>null</td><td>null</td><td>70870</td></tr><tr><td>B32D3199F1C2E75B</td><td>classic_bike</td><td>2021-02-02T17:49:41Z</td><td>2021-02-02T17:54:06Z</td><td>637</td><td>null</td><td>58974</td></tr><tr><td>83E463F23575F4BF</td><td>electric_bike</td><td>2021-02-23T15:07:23Z</td><td>2021-02-23T15:22:37Z</td><td>13216</td><td>null</td><td>39608</td></tr><tr><td>BDAA7E3494E8D545</td><td>electric_bike</td><td>2021-02-24T15:43:33Z</td><td>2021-02-24T15:49:05Z</td><td>18003</td><td>null</td><td>36267</td></tr><tr><td>A772742351171257</td><td>classic_bike</td><td>2021-02-01T17:47:42Z</td><td>2021-02-01T17:48:33Z</td><td>null</td><td>null</td><td>50104</td></tr><tr><td>295476889D9B79F8</td><td>classic_bike</td><td>2021-02-11T18:33:53Z</td><td>2021-02-11T18:35:09Z</td><td>18003</td><td>18003</td><td>19618</td></tr><tr><td>362087194BA4CC9A</td><td>classic_bike</td><td>2021-02-27T15:13:39Z</td><td>2021-02-27T15:36:36Z</td><td>null</td><td>null</td><td>16732</td></tr><tr><td>21630F715038CCB0</td><td>classic_bike</td><td>2021-02-20T08:59:42Z</td><td>2021-02-20T09:17:04Z</td><td>null</td><td>null</td><td>57068</td></tr><tr><td>A977EB7FE7F5CD3A</td><td>classic_bike</td><td>2021-02-20T08:58:16Z</td><td>2021-02-20T08:58:41Z</td><td>null</td><td>null</td><td>32712</td></tr></tbody></table></div>"
      ]
     },
     "metadata": {
      "application/vnd.databricks.v1+output": {
       "addedWidgets": {},
       "aggData": [],
       "aggError": "",
       "aggOverflow": false,
       "aggSchema": [],
       "aggSeriesLimitReached": false,
       "aggType": "",
       "arguments": {},
       "columnCustomDisplayInfos": {},
       "data": [
        [
         "0FEFDE2603568365",
         "classic_bike",
         "2021-02-14T17:52:38Z",
         "2021-02-14T18:12:09Z",
         525,
         16806,
         47854
        ],
        [
         "E6159D746B2DBB91",
         "electric_bike",
         "2021-02-09T19:10:18Z",
         "2021-02-09T19:19:10Z",
         null,
         null,
         70870
        ],
        [
         "B32D3199F1C2E75B",
         "classic_bike",
         "2021-02-02T17:49:41Z",
         "2021-02-02T17:54:06Z",
         637,
         null,
         58974
        ],
        [
         "83E463F23575F4BF",
         "electric_bike",
         "2021-02-23T15:07:23Z",
         "2021-02-23T15:22:37Z",
         13216,
         null,
         39608
        ],
        [
         "BDAA7E3494E8D545",
         "electric_bike",
         "2021-02-24T15:43:33Z",
         "2021-02-24T15:49:05Z",
         18003,
         null,
         36267
        ],
        [
         "A772742351171257",
         "classic_bike",
         "2021-02-01T17:47:42Z",
         "2021-02-01T17:48:33Z",
         null,
         null,
         50104
        ],
        [
         "295476889D9B79F8",
         "classic_bike",
         "2021-02-11T18:33:53Z",
         "2021-02-11T18:35:09Z",
         18003,
         18003,
         19618
        ],
        [
         "362087194BA4CC9A",
         "classic_bike",
         "2021-02-27T15:13:39Z",
         "2021-02-27T15:36:36Z",
         null,
         null,
         16732
        ],
        [
         "21630F715038CCB0",
         "classic_bike",
         "2021-02-20T08:59:42Z",
         "2021-02-20T09:17:04Z",
         null,
         null,
         57068
        ],
        [
         "A977EB7FE7F5CD3A",
         "classic_bike",
         "2021-02-20T08:58:16Z",
         "2021-02-20T08:58:41Z",
         null,
         null,
         32712
        ]
       ],
       "datasetInfos": [],
       "dbfsResultPath": null,
       "isJsonSchema": true,
       "metadata": {},
       "overflow": false,
       "plotOptions": {
        "customPlotOptions": {},
        "displayType": "table",
        "pivotAggregation": null,
        "pivotColumns": null,
        "xColumns": null,
        "yColumns": null
       },
       "removedWidgets": [],
       "schema": [
        {
         "metadata": "{}",
         "name": "trip_id",
         "type": "\"string\""
        },
        {
         "metadata": "{}",
         "name": "rideable_type",
         "type": "\"string\""
        },
        {
         "metadata": "{}",
         "name": "started_at",
         "type": "\"timestamp\""
        },
        {
         "metadata": "{}",
         "name": "ended_at",
         "type": "\"timestamp\""
        },
        {
         "metadata": "{}",
         "name": "start_station_id",
         "type": "\"long\""
        },
        {
         "metadata": "{}",
         "name": "end_station_id",
         "type": "\"long\""
        },
        {
         "metadata": "{}",
         "name": "rider_id",
         "type": "\"long\""
        }
       ],
       "type": "table"
      }
     }
    }
   ],
   "source": [
    "from pyspark.sql.types import StructType, StructField, StringType, StringType, TimestampType, IntegerType\n",
    "\n",
    "# Specify schema\n",
    "schema = StructType([\n",
    "  StructField(\"trip_id\", StringType(), True),\n",
    "  StructField(\"rideable_type\", StringType(), True),\n",
    "  StructField(\"started_at\", TimestampType(), True),\n",
    "  StructField(\"ended_at\", TimestampType(), True),\n",
    "  StructField(\"start_station_id\", IntegerType(), True),\n",
    "  StructField(\"end_station_id\", IntegerType(), True),\n",
    "  StructField(\"rider_id\", IntegerType(), True),\n",
    "])\n",
    "\n",
    "# Read csv\n",
    "df = spark.read.format(\"csv\") \\\n",
    "  .option(\"inferSchema\", \"false\") \\\n",
    "  .option(\"header\", \"true\") \\\n",
    "  .option(\"sep\", \",\") \\\n",
    "  .schema(schema) \\\n",
    "  .load(f\"/FileStore/data/bike-sharing/trips.csv\")\n",
    "\n",
    "display(df.take(10))\n",
    "\n",
    "# Write to delta\n",
    "df.write.format(\"delta\").mode(\"overwrite\").save(\"/delta/bike-sharing/bronze_trips\")"
   ]
  },
  {
   "cell_type": "markdown",
   "metadata": {
    "application/vnd.databricks.v1+cell": {
     "cellMetadata": {
      "byteLimit": 2048000,
      "rowLimit": 10000
     },
     "inputWidgets": {},
     "nuid": "f759915b-4bc9-4257-8313-b0144270f36a",
     "showTitle": false,
     "tableResultSettingsMap": {},
     "title": ""
    }
   },
   "source": [
    "## Load Step: Read data from delta and store it as tables"
   ]
  },
  {
   "cell_type": "markdown",
   "metadata": {
    "application/vnd.databricks.v1+cell": {
     "cellMetadata": {
      "byteLimit": 2048000,
      "rowLimit": 10000
     },
     "inputWidgets": {},
     "nuid": "c18e045b-5aa8-4b97-8f68-f10f00e33a78",
     "showTitle": false,
     "tableResultSettingsMap": {},
     "title": ""
    }
   },
   "source": [
    "### Create tables from delta files"
   ]
  },
  {
   "cell_type": "code",
   "execution_count": 0,
   "metadata": {
    "application/vnd.databricks.v1+cell": {
     "cellMetadata": {
      "byteLimit": 2048000,
      "rowLimit": 10000
     },
     "inputWidgets": {},
     "nuid": "282f002b-66ea-4a40-a2b3-010508fad811",
     "showTitle": false,
     "tableResultSettingsMap": {},
     "title": ""
    }
   },
   "outputs": [
    {
     "output_type": "execute_result",
     "data": {
      "text/plain": [
       "DataFrame[]"
      ]
     },
     "execution_count": 5,
     "metadata": {}
    }
   ],
   "source": [
    "# Create tables from delta files\n",
    "spark.sql(\"CREATE TABLE IF NOT EXISTS trip USING DELTA LOCATION '/delta/bike-sharing/bronze_trips'\")\n",
    "spark.sql(\"CREATE TABLE IF NOT EXISTS rider USING DELTA LOCATION '/delta/bike-sharing/bronze_riders'\")\n",
    "spark.sql(\"CREATE TABLE IF NOT EXISTS payment USING DELTA LOCATION '/delta/bike-sharing/bronze_payments'\")\n",
    "spark.sql(\"CREATE TABLE IF NOT EXISTS station USING DELTA LOCATION '/delta/bike-sharing/bronze_stations'\")"
   ]
  },
  {
   "cell_type": "markdown",
   "metadata": {
    "application/vnd.databricks.v1+cell": {
     "cellMetadata": {
      "byteLimit": 2048000,
      "rowLimit": 10000
     },
     "inputWidgets": {},
     "nuid": "20e31c5c-0272-431c-a3b4-c6aeb8715715",
     "showTitle": false,
     "tableResultSettingsMap": {},
     "title": ""
    }
   },
   "source": [
    "## Transform Step: Read data from tables and create dimension and fact tables"
   ]
  },
  {
   "cell_type": "markdown",
   "metadata": {
    "application/vnd.databricks.v1+cell": {
     "cellMetadata": {
      "byteLimit": 2048000,
      "rowLimit": 10000
     },
     "inputWidgets": {},
     "nuid": "d9d8944f-0873-4403-b9b9-54edb5a4f95a",
     "showTitle": false,
     "tableResultSettingsMap": {},
     "title": ""
    }
   },
   "source": [
    "### Create date dimension table\n"
   ]
  },
  {
   "cell_type": "code",
   "execution_count": 0,
   "metadata": {
    "application/vnd.databricks.v1+cell": {
     "cellMetadata": {
      "byteLimit": 2048000,
      "rowLimit": 10000
     },
     "inputWidgets": {},
     "nuid": "4640df6e-c83b-4cbf-8fa2-3baccacf3743",
     "showTitle": false,
     "tableResultSettingsMap": {},
     "title": ""
    }
   },
   "outputs": [
    {
     "output_type": "execute_result",
     "data": {
      "text/plain": [
       "DataFrame[]"
      ]
     },
     "execution_count": 6,
     "metadata": {}
    }
   ],
   "source": [
    "# Create table for date dimension\n",
    "spark.sql(\"drop table gold_dim_date\")\n",
    "spark.sql(\"CREATE TABLE IF NOT EXISTS gold_dim_date (date DATE, day_of_week BIGINT, hour_of_day BIGINT, month BIGINT, quarter BIGINT, year BIGINT, date_id LONG)\")\n"
   ]
  },
  {
   "cell_type": "markdown",
   "metadata": {
    "application/vnd.databricks.v1+cell": {
     "cellMetadata": {
      "byteLimit": 2048000,
      "rowLimit": 10000
     },
     "inputWidgets": {},
     "nuid": "d47ca39d-472a-41e4-a90b-4fda4672dd84",
     "showTitle": false,
     "tableResultSettingsMap": {},
     "title": ""
    }
   },
   "source": [
    "### Create payment fact table"
   ]
  },
  {
   "cell_type": "code",
   "execution_count": 0,
   "metadata": {
    "application/vnd.databricks.v1+cell": {
     "cellMetadata": {
      "byteLimit": 2048000,
      "rowLimit": 10000
     },
     "inputWidgets": {},
     "nuid": "5a07cd4d-a30d-4534-8650-7126d48a3863",
     "showTitle": false,
     "tableResultSettingsMap": {},
     "title": ""
    }
   },
   "outputs": [
    {
     "output_type": "display_data",
     "data": {
      "text/html": [
       "<style scoped>\n",
       "  .table-result-container {\n",
       "    max-height: 300px;\n",
       "    overflow: auto;\n",
       "  }\n",
       "  table, th, td {\n",
       "    border: 1px solid black;\n",
       "    border-collapse: collapse;\n",
       "  }\n",
       "  th, td {\n",
       "    padding: 5px;\n",
       "  }\n",
       "  th {\n",
       "    text-align: left;\n",
       "  }\n",
       "</style><div class='table-result-container'><table class='table-result'><thead style='background-color: white'><tr><th>payment_id</th><th>amount</th><th>rider_id</th><th>date_id</th></tr></thead><tbody><tr><td>1064470</td><td>9.000000000000000000</td><td>42106</td><td>30</td></tr><tr><td>1064467</td><td>9.000000000000000000</td><td>42106</td><td>33</td></tr><tr><td>1064465</td><td>9.000000000000000000</td><td>42106</td><td>34</td></tr><tr><td>1064469</td><td>9.000000000000000000</td><td>42106</td><td>43</td></tr><tr><td>1064464</td><td>9.000000000000000000</td><td>42106</td><td>50</td></tr><tr><td>1064468</td><td>9.000000000000000000</td><td>42106</td><td>57</td></tr><tr><td>1064471</td><td>9.000000000000000000</td><td>42106</td><td>61</td></tr><tr><td>1064463</td><td>9.000000000000000000</td><td>42106</td><td>63</td></tr><tr><td>1064466</td><td>9.000000000000000000</td><td>42106</td><td>84</td></tr><tr><td>1064462</td><td>9.000000000000000000</td><td>42106</td><td>106</td></tr></tbody></table></div>"
      ]
     },
     "metadata": {
      "application/vnd.databricks.v1+output": {
       "addedWidgets": {},
       "aggData": [],
       "aggError": "",
       "aggOverflow": false,
       "aggSchema": [],
       "aggSeriesLimitReached": false,
       "aggType": "",
       "arguments": {},
       "columnCustomDisplayInfos": {},
       "data": [
        [
         1064470,
         "9.000000000000000000",
         42106,
         30
        ],
        [
         1064467,
         "9.000000000000000000",
         42106,
         33
        ],
        [
         1064465,
         "9.000000000000000000",
         42106,
         34
        ],
        [
         1064469,
         "9.000000000000000000",
         42106,
         43
        ],
        [
         1064464,
         "9.000000000000000000",
         42106,
         50
        ],
        [
         1064468,
         "9.000000000000000000",
         42106,
         57
        ],
        [
         1064471,
         "9.000000000000000000",
         42106,
         61
        ],
        [
         1064463,
         "9.000000000000000000",
         42106,
         63
        ],
        [
         1064466,
         "9.000000000000000000",
         42106,
         84
        ],
        [
         1064462,
         "9.000000000000000000",
         42106,
         106
        ]
       ],
       "datasetInfos": [],
       "dbfsResultPath": null,
       "isJsonSchema": true,
       "metadata": {},
       "overflow": false,
       "plotOptions": {
        "customPlotOptions": {},
        "displayType": "table",
        "pivotAggregation": null,
        "pivotColumns": null,
        "xColumns": null,
        "yColumns": null
       },
       "removedWidgets": [],
       "schema": [
        {
         "metadata": "{}",
         "name": "payment_id",
         "type": "\"long\""
        },
        {
         "metadata": "{}",
         "name": "amount",
         "type": "\"decimal(38,18)\""
        },
        {
         "metadata": "{}",
         "name": "rider_id",
         "type": "\"long\""
        },
        {
         "metadata": "{}",
         "name": "date_id",
         "type": "\"long\""
        }
       ],
       "type": "table"
      }
     }
    }
   ],
   "source": [
    "from pyspark.sql.functions import monotonically_increasing_id, dayofweek, hour, month, quarter, year, to_date\n",
    "\n",
    "# Read payments from table\n",
    "df_payments = spark.table(\"payment\")\n",
    "# Read dates from table\n",
    "df_dim_date = spark.table(\"gold_dim_date\")\n",
    "\n",
    "# Iterate over date-like columns and replace it with date_id\n",
    "for datelike in [\"date\"]:\n",
    "  # Rename datelike column to date\n",
    "  df_payments = df_payments.withColumnRenamed(datelike, \"date\")\n",
    "  \n",
    "  # Extract distinct dates\n",
    "  df_dates = df_payments.select(\"date\").distinct()\n",
    "  # Calculate day of the week\n",
    "  df_dates = df_dates.withColumn(\"day_of_week\", dayofweek(\"date\"))\n",
    "  # Calculate hour of the day\n",
    "  df_dates = df_dates.withColumn(\"hour_of_day\", hour(\"date\"))\n",
    "  # Calculate month\n",
    "  df_dates = df_dates.withColumn(\"month\", month(\"date\"))\n",
    "  # Calculate month\n",
    "  df_dates = df_dates.withColumn(\"quarter\", quarter(\"date\"))\n",
    "  # Calculate month\n",
    "  df_dates = df_dates.withColumn(\"year\", year(\"date\"))\n",
    "  \n",
    "  # Identify dates that are not already present in dim_date table\n",
    "  df_dates_new = df_dates.join(df_dim_date, on=[\"date\"], how=\"left_anti\")\n",
    "\n",
    "  # Generate date IDs\n",
    "  df_dates_new = df_dates_new.withColumn(\"date_id\", monotonically_increasing_id())\n",
    "\n",
    "  # Add new dates to dim_date\n",
    "  df_dim_date = df_dim_date.union(df_dates_new)\n",
    "  \n",
    "  # Replace date column with date_id\n",
    "  df_payments = df_payments.join(df_dim_date, on=\"date\", how=\"left\").drop(\"date\", \"day_of_week\", \"hour_of_day\", \"month\", \"quarter\", \"year\")\n",
    "\n",
    "# Convert column formats\n",
    "df_dim_date = df_dim_date.withColumn(\"date\", to_date(\"date\"))\n",
    "\n",
    "display(df_payments.take(10))\n",
    "\n",
    "# Save dim_date to table\n",
    "df_dim_date.write.format(\"delta\").mode(\"overwrite\").saveAsTable(f\"gold_dim_date\")\n",
    "\n",
    "# Save payments to table\n",
    "df_payments.write.format(\"delta\").mode(\"overwrite\").saveAsTable(f\"gold_fact_payment\")\n"
   ]
  },
  {
   "cell_type": "markdown",
   "metadata": {
    "application/vnd.databricks.v1+cell": {
     "cellMetadata": {
      "byteLimit": 2048000,
      "rowLimit": 10000
     },
     "inputWidgets": {},
     "nuid": "7dfd5ae7-47ce-4fdc-a3a9-bb7ac7a1b973",
     "showTitle": false,
     "tableResultSettingsMap": {},
     "title": ""
    }
   },
   "source": [
    "### Create trip fact table"
   ]
  },
  {
   "cell_type": "code",
   "execution_count": 0,
   "metadata": {
    "application/vnd.databricks.v1+cell": {
     "cellMetadata": {
      "byteLimit": 2048000,
      "rowLimit": 10000
     },
     "inputWidgets": {},
     "nuid": "e6618dc2-b27a-4c90-92ad-d50a9f6edeae",
     "showTitle": false,
     "tableResultSettingsMap": {},
     "title": ""
    }
   },
   "outputs": [
    {
     "output_type": "display_data",
     "data": {
      "text/html": [
       "<style scoped>\n",
       "  .table-result-container {\n",
       "    max-height: 300px;\n",
       "    overflow: auto;\n",
       "  }\n",
       "  table, th, td {\n",
       "    border: 1px solid black;\n",
       "    border-collapse: collapse;\n",
       "  }\n",
       "  th, td {\n",
       "    padding: 5px;\n",
       "  }\n",
       "  th {\n",
       "    text-align: left;\n",
       "  }\n",
       "</style><div class='table-result-container'><table class='table-result'><thead style='background-color: white'><tr><th>rider_id</th><th>trip_id</th><th>rideable_type</th><th>start_station_id</th><th>end_station_id</th><th>duration_in_minutes</th><th>rider_age_at_trip_start</th><th>started_at_date_id</th><th>ended_at_date_id</th></tr></thead><tbody><tr><td>33902</td><td>5E98DA99CB0B52E4</td><td>classic_bike</td><td>13353</td><td>13242</td><td>25.32</td><td>38.0</td><td>17180040363</td><td>103191</td></tr><tr><td>70456</td><td>F6F309843C09CAAC</td><td>classic_bike</td><td>null</td><td>null</td><td>12.72</td><td>37.0</td><td>8590818167</td><td>207869</td></tr><tr><td>37747</td><td>ADFF32195521E952</td><td>classic_bike</td><td>13288</td><td>null</td><td>8.12</td><td>20.0</td><td>17179932936</td><td>10220</td></tr><tr><td>16732</td><td>362087194BA4CC9A</td><td>classic_bike</td><td>null</td><td>null</td><td>22.95</td><td>20.0</td><td>717516</td><td>473701</td></tr><tr><td>45050</td><td>5B788004F8A5204C</td><td>classic_bike</td><td>13353</td><td>13242</td><td>24.03</td><td>29.0</td><td>34126</td><td>61443</td></tr><tr><td>19618</td><td>295476889D9B79F8</td><td>classic_bike</td><td>18003</td><td>18003</td><td>1.27</td><td>24.0</td><td>8590452269</td><td>545415</td></tr><tr><td>57068</td><td>21630F715038CCB0</td><td>classic_bike</td><td>null</td><td>null</td><td>17.37</td><td>48.0</td><td>592079</td><td>557441</td></tr><tr><td>6693</td><td>378F4AB323AA1D14</td><td>docked_bike</td><td>null</td><td>null</td><td>46.07</td><td>29.0</td><td>472219</td><td>320614</td></tr><tr><td>43342</td><td>A8E94BAECBF0C2DD</td><td>docked_bike</td><td>null</td><td>null</td><td>54.17</td><td>29.0</td><td>404130</td><td>2212499</td></tr><tr><td>71976</td><td>268A00298A05078B</td><td>classic_bike</td><td>null</td><td>null</td><td>12.92</td><td>34.0</td><td>17180656812</td><td>295583</td></tr></tbody></table></div>"
      ]
     },
     "metadata": {
      "application/vnd.databricks.v1+output": {
       "addedWidgets": {},
       "aggData": [],
       "aggError": "",
       "aggOverflow": false,
       "aggSchema": [],
       "aggSeriesLimitReached": false,
       "aggType": "",
       "arguments": {},
       "columnCustomDisplayInfos": {},
       "data": [
        [
         33902,
         "5E98DA99CB0B52E4",
         "classic_bike",
         13353,
         13242,
         25.32,
         38.0,
         17180040363,
         103191
        ],
        [
         70456,
         "F6F309843C09CAAC",
         "classic_bike",
         null,
         null,
         12.72,
         37.0,
         8590818167,
         207869
        ],
        [
         37747,
         "ADFF32195521E952",
         "classic_bike",
         13288,
         null,
         8.12,
         20.0,
         17179932936,
         10220
        ],
        [
         16732,
         "362087194BA4CC9A",
         "classic_bike",
         null,
         null,
         22.95,
         20.0,
         717516,
         473701
        ],
        [
         45050,
         "5B788004F8A5204C",
         "classic_bike",
         13353,
         13242,
         24.03,
         29.0,
         34126,
         61443
        ],
        [
         19618,
         "295476889D9B79F8",
         "classic_bike",
         18003,
         18003,
         1.27,
         24.0,
         8590452269,
         545415
        ],
        [
         57068,
         "21630F715038CCB0",
         "classic_bike",
         null,
         null,
         17.37,
         48.0,
         592079,
         557441
        ],
        [
         6693,
         "378F4AB323AA1D14",
         "docked_bike",
         null,
         null,
         46.07,
         29.0,
         472219,
         320614
        ],
        [
         43342,
         "A8E94BAECBF0C2DD",
         "docked_bike",
         null,
         null,
         54.17,
         29.0,
         404130,
         2212499
        ],
        [
         71976,
         "268A00298A05078B",
         "classic_bike",
         null,
         null,
         12.92,
         34.0,
         17180656812,
         295583
        ]
       ],
       "datasetInfos": [],
       "dbfsResultPath": null,
       "isJsonSchema": true,
       "metadata": {},
       "overflow": false,
       "plotOptions": {
        "customPlotOptions": {},
        "displayType": "table",
        "pivotAggregation": null,
        "pivotColumns": null,
        "xColumns": null,
        "yColumns": null
       },
       "removedWidgets": [],
       "schema": [
        {
         "metadata": "{}",
         "name": "rider_id",
         "type": "\"long\""
        },
        {
         "metadata": "{}",
         "name": "trip_id",
         "type": "\"string\""
        },
        {
         "metadata": "{}",
         "name": "rideable_type",
         "type": "\"string\""
        },
        {
         "metadata": "{}",
         "name": "start_station_id",
         "type": "\"long\""
        },
        {
         "metadata": "{}",
         "name": "end_station_id",
         "type": "\"long\""
        },
        {
         "metadata": "{}",
         "name": "duration_in_minutes",
         "type": "\"double\""
        },
        {
         "metadata": "{}",
         "name": "rider_age_at_trip_start",
         "type": "\"double\""
        },
        {
         "metadata": "{}",
         "name": "started_at_date_id",
         "type": "\"long\""
        },
        {
         "metadata": "{}",
         "name": "ended_at_date_id",
         "type": "\"long\""
        }
       ],
       "type": "table"
      }
     }
    }
   ],
   "source": [
    "from pyspark.sql.functions import monotonically_increasing_id, unix_timestamp, round, col, dayofweek, hour, month, quarter, year, to_date\n",
    "\n",
    "# Read trips from table\n",
    "df_trips = spark.table(\"trip\")\n",
    "# Read riders from table\n",
    "df_riders = spark.table(\"rider\")\n",
    "# Read dates from table\n",
    "df_dim_date = spark.table(\"gold_dim_date\")\n",
    "\n",
    "# Calculate duration in minutes\n",
    "df_trips = df_trips.withColumn(\"duration_in_minutes\", round((unix_timestamp(\"ended_at\") - unix_timestamp(\"started_at\")) / 60, 2))\n",
    "# Join with riders table\n",
    "df_trips = df_trips.join(df_riders, \"rider_id\", \"inner\")\n",
    "# Calculate rider age at trip start\n",
    "df_trips = df_trips.withColumn(\"rider_age_at_trip_start\", round((unix_timestamp(\"started_at\") - unix_timestamp(\"birthday\")) / 60 / 60/ 24 / 360, 0))\n",
    "# Drop rider columns\n",
    "df_trips = df_trips.drop(\"first\", \"last\", \"address\", \"birthday\", \"account_start_date\", \"account_end_date\", \"is_member\")\n",
    "\n",
    "# Iterate over date-like columns and replace it with date_id\n",
    "for datelike in [\"started_at\", \"ended_at\"]:  \n",
    "  # Rename datelike column to date\n",
    "  df_trips = df_trips.withColumnRenamed(datelike, \"date\")\n",
    "  \n",
    "  # Extract distinct dates\n",
    "  df_dates = df_trips.select(\"date\").distinct()\n",
    "  # Calculate day of the week\n",
    "  df_dates = df_dates.withColumn(\"day_of_week\", dayofweek(\"date\"))\n",
    "  # Calculate hour of the day\n",
    "  df_dates = df_dates.withColumn(\"hour_of_day\", hour(\"date\"))\n",
    "  # Calculate month\n",
    "  df_dates = df_dates.withColumn(\"month\", month(\"date\"))\n",
    "  # Calculate month\n",
    "  df_dates = df_dates.withColumn(\"quarter\", quarter(\"date\"))\n",
    "  # Calculate month\n",
    "  df_dates = df_dates.withColumn(\"year\", year(\"date\"))\n",
    "  \n",
    "  # Identify dates that are not already present in dim_date table\n",
    "  df_dates_new = df_dates.join(df_dim_date, on=[\"date\"], how=\"left_anti\")\n",
    "\n",
    "  # Generate date IDs\n",
    "  df_dates_new = df_dates_new.withColumn(\"date_id\", monotonically_increasing_id())\n",
    "\n",
    "  # Add new dates to dim_date\n",
    "  df_dim_date = df_dim_date.union(df_dates_new)\n",
    "  \n",
    "  # Replace date column with date_id\n",
    "  df_trips = df_trips.join(df_dim_date, on=\"date\", how=\"left\").drop(\"date\", \"day_of_week\", \"hour_of_day\", \"month\", \"quarter\", \"year\")\n",
    "  # Rename date ID column\n",
    "  df_trips = df_trips.withColumnRenamed(\"date_id\", f\"{datelike}_date_id\").drop(\"date_id\")\n",
    "\n",
    "# Convert date to date format\n",
    "df_dim_date = df_dim_date.withColumn(\"date\", to_date(\"date\"))\n",
    "\n",
    "display(df_trips.take(10))\n",
    "\n",
    "# Save dim_date to table\n",
    "df_dim_date.write.format(\"delta\").mode(\"overwrite\").saveAsTable(f\"gold_dim_date\")\n",
    "\n",
    "# Save payments to table\n",
    "df_trips.write.format(\"delta\").mode(\"overwrite\").saveAsTable(f\"gold_fact_trip\")"
   ]
  },
  {
   "cell_type": "markdown",
   "metadata": {
    "application/vnd.databricks.v1+cell": {
     "cellMetadata": {
      "byteLimit": 2048000,
      "rowLimit": 10000
     },
     "inputWidgets": {},
     "nuid": "f28092f5-36b3-4324-b423-0dbffb696bea",
     "showTitle": false,
     "tableResultSettingsMap": {},
     "title": ""
    }
   },
   "source": [
    "### Create rider dimension table"
   ]
  },
  {
   "cell_type": "code",
   "metadata": {
    "application/vnd.databricks.v1+cell": {
     "cellMetadata": {
      "byteLimit": 2048000,
      "rowLimit": 10000
     },
     "inputWidgets": {},
     "nuid": "35427491-ad74-4f31-994e-c9b7dfff93fa",
     "showTitle": false,
     "tableResultSettingsMap": {},
     "title": ""
    }
   },
   "source": [
    "from pyspark.sql.functions import when, current_timestamp, col, monotonically_increasing_id, dayofweek, hour, month, quarter, year\n",
    "\n",
    "# Read rider from table\n",
    "df_riders = spark.table(\"rider\")\n",
    "\n",
    "# Save riders to table\n",
    "df_riders.write.format(\"delta\").mode(\"overwrite\").saveAsTable(f\"gold_dim_rider\")"
   ],
   "outputs": [],
   "execution_count": null
  },
  {
   "cell_type": "markdown",
   "metadata": {
    "application/vnd.databricks.v1+cell": {
     "cellMetadata": {
      "byteLimit": 2048000,
      "rowLimit": 10000
     },
     "inputWidgets": {},
     "nuid": "bb33a8b6-ced6-4c9c-b31e-b88e06ffa388",
     "showTitle": false,
     "tableResultSettingsMap": {},
     "title": ""
    }
   },
   "source": [
    "### Create station dimension table"
   ]
  },
  {
   "cell_type": "code",
   "execution_count": 0,
   "metadata": {
    "application/vnd.databricks.v1+cell": {
     "cellMetadata": {
      "byteLimit": 2048000,
      "rowLimit": 10000
     },
     "inputWidgets": {},
     "nuid": "0ae41924-63cb-44a6-a44c-c3bee7190d98",
     "showTitle": false,
     "tableResultSettingsMap": {},
     "title": ""
    }
   },
   "outputs": [],
   "source": [
    "# Read stations from table\n",
    "df_stations = spark.table(\"station\")\n",
    "\n",
    "# Save stations to table\n",
    "df_stations.write.format(\"delta\").mode(\"overwrite\").saveAsTable(f\"gold_dim_station\")"
   ]
  },
  {
   "cell_type": "markdown",
   "metadata": {
    "application/vnd.databricks.v1+cell": {
     "cellMetadata": {
      "byteLimit": 2048000,
      "rowLimit": 10000
     },
     "inputWidgets": {},
     "nuid": "1da448c3-9a97-412b-8cf8-cd18a5bac80a",
     "showTitle": false,
     "tableResultSettingsMap": {},
     "title": ""
    }
   },
   "source": [
    "## Business Questions"
   ]
  },
  {
   "cell_type": "markdown",
   "metadata": {
    "application/vnd.databricks.v1+cell": {
     "cellMetadata": {
      "byteLimit": 2048000,
      "rowLimit": 10000
     },
     "inputWidgets": {},
     "nuid": "0c0d6a33-e5cb-462f-804f-1e274ff50053",
     "showTitle": false,
     "tableResultSettingsMap": {},
     "title": ""
    }
   },
   "source": [
    "### Time spent per ride based on date and time factors such as day of week and time of day"
   ]
  },
  {
   "cell_type": "code",
   "execution_count": 0,
   "metadata": {
    "application/vnd.databricks.v1+cell": {
     "cellMetadata": {
      "byteLimit": 2048000,
      "rowLimit": 10000
     },
     "inputWidgets": {},
     "nuid": "64c983ff-3537-4dbb-a1bd-4662ead8f1ff",
     "showTitle": false,
     "tableResultSettingsMap": {},
     "title": ""
    }
   },
   "outputs": [
    {
     "output_type": "display_data",
     "data": {
      "text/html": [
       "<style scoped>\n",
       "  .table-result-container {\n",
       "    max-height: 300px;\n",
       "    overflow: auto;\n",
       "  }\n",
       "  table, th, td {\n",
       "    border: 1px solid black;\n",
       "    border-collapse: collapse;\n",
       "  }\n",
       "  th, td {\n",
       "    padding: 5px;\n",
       "  }\n",
       "  th {\n",
       "    text-align: left;\n",
       "  }\n",
       "</style><div class='table-result-container'><table class='table-result'><thead style='background-color: white'><tr><th>day_of_week</th><th>avg_duration_in_minutes</th></tr></thead><tbody><tr><td>1</td><td>21.01</td></tr><tr><td>2</td><td>21.77</td></tr><tr><td>3</td><td>20.58</td></tr><tr><td>4</td><td>20.51</td></tr><tr><td>5</td><td>20.99</td></tr><tr><td>6</td><td>20.69</td></tr><tr><td>7</td><td>20.58</td></tr></tbody></table></div>"
      ]
     },
     "metadata": {
      "application/vnd.databricks.v1+output": {
       "addedWidgets": {},
       "aggData": [],
       "aggError": "",
       "aggOverflow": false,
       "aggSchema": [],
       "aggSeriesLimitReached": false,
       "aggType": "",
       "arguments": {},
       "columnCustomDisplayInfos": {},
       "data": [
        [
         1,
         21.01
        ],
        [
         2,
         21.77
        ],
        [
         3,
         20.58
        ],
        [
         4,
         20.51
        ],
        [
         5,
         20.99
        ],
        [
         6,
         20.69
        ],
        [
         7,
         20.58
        ]
       ],
       "datasetInfos": [],
       "dbfsResultPath": null,
       "isJsonSchema": true,
       "metadata": {},
       "overflow": false,
       "plotOptions": {
        "customPlotOptions": {},
        "displayType": "table",
        "pivotAggregation": null,
        "pivotColumns": null,
        "xColumns": null,
        "yColumns": null
       },
       "removedWidgets": [],
       "schema": [
        {
         "metadata": "{}",
         "name": "day_of_week",
         "type": "\"long\""
        },
        {
         "metadata": "{}",
         "name": "avg_duration_in_minutes",
         "type": "\"double\""
        }
       ],
       "type": "table"
      }
     }
    }
   ],
   "source": [
    "from pyspark.sql.functions import round, avg\n",
    "\n",
    "# Read trips from table\n",
    "df_trips = spark.table(\"gold_fact_trip\")\n",
    "# Read dates from table\n",
    "df_dates = spark.table(\"gold_dim_date\")\n",
    "# Join with date dimension\n",
    "df_trips = df_trips.join(df_dates, df_trips.started_at_date_id == df_dates.date_id, \"inner\")\n",
    "\n",
    "# Group by day of the week and aggregate average duration\n",
    "df_grouped = df_trips.groupBy(\"day_of_week\").agg(round(avg(\"duration_in_minutes\"), 2).alias(\"avg_duration_in_minutes\")).orderBy(\"day_of_week\")\n",
    "\n",
    "display(df_grouped)"
   ]
  },
  {
   "cell_type": "code",
   "execution_count": 0,
   "metadata": {
    "application/vnd.databricks.v1+cell": {
     "cellMetadata": {
      "byteLimit": 2048000,
      "rowLimit": 10000
     },
     "inputWidgets": {},
     "nuid": "13ada634-d58b-42a8-a01c-5a435e95743b",
     "showTitle": false,
     "tableResultSettingsMap": {},
     "title": ""
    }
   },
   "outputs": [
    {
     "output_type": "display_data",
     "data": {
      "text/html": [
       "<style scoped>\n",
       "  .table-result-container {\n",
       "    max-height: 300px;\n",
       "    overflow: auto;\n",
       "  }\n",
       "  table, th, td {\n",
       "    border: 1px solid black;\n",
       "    border-collapse: collapse;\n",
       "  }\n",
       "  th, td {\n",
       "    padding: 5px;\n",
       "  }\n",
       "  th {\n",
       "    text-align: left;\n",
       "  }\n",
       "</style><div class='table-result-container'><table class='table-result'><thead style='background-color: white'><tr><th>hour_of_day</th><th>avg_duration_in_minutes</th></tr></thead><tbody><tr><td>0</td><td>18.25</td></tr><tr><td>1</td><td>22.04</td></tr><tr><td>2</td><td>21.08</td></tr><tr><td>3</td><td>23.47</td></tr><tr><td>4</td><td>20.83</td></tr><tr><td>5</td><td>23.24</td></tr><tr><td>6</td><td>20.77</td></tr><tr><td>7</td><td>20.42</td></tr><tr><td>8</td><td>21.31</td></tr><tr><td>9</td><td>18.55</td></tr><tr><td>10</td><td>21.38</td></tr><tr><td>11</td><td>21.1</td></tr><tr><td>12</td><td>20.4</td></tr><tr><td>13</td><td>20.16</td></tr><tr><td>14</td><td>21.71</td></tr><tr><td>15</td><td>21.51</td></tr><tr><td>16</td><td>20.53</td></tr><tr><td>17</td><td>20.05</td></tr><tr><td>18</td><td>21.68</td></tr><tr><td>19</td><td>21.48</td></tr><tr><td>20</td><td>21.96</td></tr><tr><td>21</td><td>20.94</td></tr><tr><td>22</td><td>21.43</td></tr><tr><td>23</td><td>21.14</td></tr></tbody></table></div>"
      ]
     },
     "metadata": {
      "application/vnd.databricks.v1+output": {
       "addedWidgets": {},
       "aggData": [],
       "aggError": "",
       "aggOverflow": false,
       "aggSchema": [],
       "aggSeriesLimitReached": false,
       "aggType": "",
       "arguments": {},
       "columnCustomDisplayInfos": {},
       "data": [
        [
         0,
         18.25
        ],
        [
         1,
         22.04
        ],
        [
         2,
         21.08
        ],
        [
         3,
         23.47
        ],
        [
         4,
         20.83
        ],
        [
         5,
         23.24
        ],
        [
         6,
         20.77
        ],
        [
         7,
         20.42
        ],
        [
         8,
         21.31
        ],
        [
         9,
         18.55
        ],
        [
         10,
         21.38
        ],
        [
         11,
         21.1
        ],
        [
         12,
         20.4
        ],
        [
         13,
         20.16
        ],
        [
         14,
         21.71
        ],
        [
         15,
         21.51
        ],
        [
         16,
         20.53
        ],
        [
         17,
         20.05
        ],
        [
         18,
         21.68
        ],
        [
         19,
         21.48
        ],
        [
         20,
         21.96
        ],
        [
         21,
         20.94
        ],
        [
         22,
         21.43
        ],
        [
         23,
         21.14
        ]
       ],
       "datasetInfos": [],
       "dbfsResultPath": null,
       "isJsonSchema": true,
       "metadata": {},
       "overflow": false,
       "plotOptions": {
        "customPlotOptions": {},
        "displayType": "table",
        "pivotAggregation": null,
        "pivotColumns": null,
        "xColumns": null,
        "yColumns": null
       },
       "removedWidgets": [],
       "schema": [
        {
         "metadata": "{}",
         "name": "hour_of_day",
         "type": "\"long\""
        },
        {
         "metadata": "{}",
         "name": "avg_duration_in_minutes",
         "type": "\"double\""
        }
       ],
       "type": "table"
      }
     }
    }
   ],
   "source": [
    "from pyspark.sql.functions import round, avg\n",
    "\n",
    "# Read trips from table\n",
    "df_trips = spark.table(\"gold_fact_trip\")\n",
    "# Read dates from table\n",
    "df_dates = spark.table(\"gold_dim_date\")\n",
    "# Join with date dimension\n",
    "df_trips = df_trips.join(df_dates, df_trips.started_at_date_id == df_dates.date_id, \"inner\")\n",
    "\n",
    "# Group by hour of day and aggregate average duration\n",
    "df_grouped = df_trips.groupBy(\"hour_of_day\").agg(round(avg(\"duration_in_minutes\"), 2).alias(\"avg_duration_in_minutes\")).orderBy(\"hour_of_day\")\n",
    "\n",
    "display(df_grouped)"
   ]
  },
  {
   "cell_type": "markdown",
   "metadata": {
    "application/vnd.databricks.v1+cell": {
     "cellMetadata": {
      "byteLimit": 2048000,
      "rowLimit": 10000
     },
     "inputWidgets": {},
     "nuid": "69a90f3d-196c-41af-92a5-f66ba3012710",
     "showTitle": false,
     "tableResultSettingsMap": {},
     "title": ""
    }
   },
   "source": [
    "\n",
    "### Time spent per ride based on which station is the starting and / or ending station"
   ]
  },
  {
   "cell_type": "code",
   "execution_count": 0,
   "metadata": {
    "application/vnd.databricks.v1+cell": {
     "cellMetadata": {
      "byteLimit": 2048000,
      "rowLimit": 10000
     },
     "inputWidgets": {},
     "nuid": "e1ecab26-d5bc-4cf7-a04f-db4b5d3f6155",
     "showTitle": false,
     "tableResultSettingsMap": {},
     "title": ""
    }
   },
   "outputs": [
    {
     "output_type": "display_data",
     "data": {
      "text/html": [
       "<style scoped>\n",
       "  .table-result-container {\n",
       "    max-height: 300px;\n",
       "    overflow: auto;\n",
       "  }\n",
       "  table, th, td {\n",
       "    border: 1px solid black;\n",
       "    border-collapse: collapse;\n",
       "  }\n",
       "  th, td {\n",
       "    padding: 5px;\n",
       "  }\n",
       "  th {\n",
       "    text-align: left;\n",
       "  }\n",
       "</style><div class='table-result-container'><table class='table-result'><thead style='background-color: white'><tr><th>start_station_id</th><th>avg_duration_in_minutes</th></tr></thead><tbody><tr><td>556</td><td>538.04</td></tr><tr><td>665</td><td>535.64</td></tr><tr><td>587</td><td>409.7</td></tr><tr><td>564</td><td>353.39</td></tr><tr><td>16915</td><td>317.65</td></tr><tr><td>20205</td><td>308.64</td></tr><tr><td>20230</td><td>285.37</td></tr><tr><td>642</td><td>283.13</td></tr><tr><td>537</td><td>280.02</td></tr><tr><td>20211</td><td>266.13</td></tr></tbody></table></div>"
      ]
     },
     "metadata": {
      "application/vnd.databricks.v1+output": {
       "addedWidgets": {},
       "aggData": [],
       "aggError": "",
       "aggOverflow": false,
       "aggSchema": [],
       "aggSeriesLimitReached": false,
       "aggType": "",
       "arguments": {},
       "columnCustomDisplayInfos": {},
       "data": [
        [
         556,
         538.04
        ],
        [
         665,
         535.64
        ],
        [
         587,
         409.7
        ],
        [
         564,
         353.39
        ],
        [
         16915,
         317.65
        ],
        [
         20205,
         308.64
        ],
        [
         20230,
         285.37
        ],
        [
         642,
         283.13
        ],
        [
         537,
         280.02
        ],
        [
         20211,
         266.13
        ]
       ],
       "datasetInfos": [],
       "dbfsResultPath": null,
       "isJsonSchema": true,
       "metadata": {},
       "overflow": false,
       "plotOptions": {
        "customPlotOptions": {},
        "displayType": "table",
        "pivotAggregation": null,
        "pivotColumns": null,
        "xColumns": null,
        "yColumns": null
       },
       "removedWidgets": [],
       "schema": [
        {
         "metadata": "{}",
         "name": "start_station_id",
         "type": "\"long\""
        },
        {
         "metadata": "{}",
         "name": "avg_duration_in_minutes",
         "type": "\"double\""
        }
       ],
       "type": "table"
      }
     }
    }
   ],
   "source": [
    "from pyspark.sql.functions import round, avg, desc\n",
    "\n",
    "# Read trips from table\n",
    "df_trips = spark.table(\"gold_fact_trip\")\n",
    "# Drop rows without a start station\n",
    "df_trips = df_trips.dropna(subset=[\"start_station_id\"])\n",
    "\n",
    "# Group by start station and aggregate average duration\n",
    "df_grouped = df_trips.groupBy(\"start_station_id\").agg(round(avg(\"duration_in_minutes\"), 2).alias(\"avg_duration_in_minutes\")).orderBy(desc(\"avg_duration_in_minutes\"))\n",
    "\n",
    "display(df_grouped.take(10))"
   ]
  },
  {
   "cell_type": "code",
   "execution_count": 0,
   "metadata": {
    "application/vnd.databricks.v1+cell": {
     "cellMetadata": {
      "byteLimit": 2048000,
      "rowLimit": 10000
     },
     "inputWidgets": {},
     "nuid": "cf917411-be06-4358-bb2c-896eb82cc1f1",
     "showTitle": false,
     "tableResultSettingsMap": {},
     "title": ""
    }
   },
   "outputs": [
    {
     "output_type": "display_data",
     "data": {
      "text/html": [
       "<style scoped>\n",
       "  .table-result-container {\n",
       "    max-height: 300px;\n",
       "    overflow: auto;\n",
       "  }\n",
       "  table, th, td {\n",
       "    border: 1px solid black;\n",
       "    border-collapse: collapse;\n",
       "  }\n",
       "  th, td {\n",
       "    padding: 5px;\n",
       "  }\n",
       "  th {\n",
       "    text-align: left;\n",
       "  }\n",
       "</style><div class='table-result-container'><table class='table-result'><thead style='background-color: white'><tr><th>end_station_id</th><th>avg_duration_in_minutes</th></tr></thead><tbody><tr><td>16903</td><td>569.73</td></tr><tr><td>572</td><td>502.02</td></tr><tr><td>20110</td><td>376.76</td></tr><tr><td>20235</td><td>371.81</td></tr><tr><td>587</td><td>367.32</td></tr><tr><td>20204</td><td>316.16</td></tr><tr><td>20206</td><td>276.37</td></tr><tr><td>576</td><td>275.55</td></tr><tr><td>583</td><td>259.76</td></tr><tr><td>20116</td><td>245.5</td></tr></tbody></table></div>"
      ]
     },
     "metadata": {
      "application/vnd.databricks.v1+output": {
       "addedWidgets": {},
       "aggData": [],
       "aggError": "",
       "aggOverflow": false,
       "aggSchema": [],
       "aggSeriesLimitReached": false,
       "aggType": "",
       "arguments": {},
       "columnCustomDisplayInfos": {},
       "data": [
        [
         16903,
         569.73
        ],
        [
         572,
         502.02
        ],
        [
         20110,
         376.76
        ],
        [
         20235,
         371.81
        ],
        [
         587,
         367.32
        ],
        [
         20204,
         316.16
        ],
        [
         20206,
         276.37
        ],
        [
         576,
         275.55
        ],
        [
         583,
         259.76
        ],
        [
         20116,
         245.5
        ]
       ],
       "datasetInfos": [],
       "dbfsResultPath": null,
       "isJsonSchema": true,
       "metadata": {},
       "overflow": false,
       "plotOptions": {
        "customPlotOptions": {},
        "displayType": "table",
        "pivotAggregation": null,
        "pivotColumns": null,
        "xColumns": null,
        "yColumns": null
       },
       "removedWidgets": [],
       "schema": [
        {
         "metadata": "{}",
         "name": "end_station_id",
         "type": "\"long\""
        },
        {
         "metadata": "{}",
         "name": "avg_duration_in_minutes",
         "type": "\"double\""
        }
       ],
       "type": "table"
      }
     }
    }
   ],
   "source": [
    "from pyspark.sql.functions import round, avg, desc\n",
    "\n",
    "# Read trips from table\n",
    "df_trips = spark.table(\"gold_fact_trip\")\n",
    "# Drop rows without a start station\n",
    "df_trips = df_trips.dropna(subset=[\"end_station_id\"])\n",
    "\n",
    "# Group by start station and aggregate average duration\n",
    "df_grouped = df_trips.groupBy(\"end_station_id\").agg(round(avg(\"duration_in_minutes\"), 2).alias(\"avg_duration_in_minutes\")).orderBy(desc(\"avg_duration_in_minutes\"))\n",
    "\n",
    "display(df_grouped.take(10))"
   ]
  },
  {
   "cell_type": "markdown",
   "metadata": {
    "application/vnd.databricks.v1+cell": {
     "cellMetadata": {
      "byteLimit": 2048000,
      "rowLimit": 10000
     },
     "inputWidgets": {},
     "nuid": "81496216-3541-4335-93ef-dc6f21426763",
     "showTitle": false,
     "tableResultSettingsMap": {},
     "title": ""
    }
   },
   "source": [
    "### Time spent per ride based on age of the rider at time of the ride"
   ]
  },
  {
   "cell_type": "code",
   "execution_count": 0,
   "metadata": {
    "application/vnd.databricks.v1+cell": {
     "cellMetadata": {
      "byteLimit": 2048000,
      "rowLimit": 10000
     },
     "inputWidgets": {},
     "nuid": "b5be94f3-1f68-4008-b8ca-8f6650dfde4c",
     "showTitle": false,
     "tableResultSettingsMap": {},
     "title": ""
    }
   },
   "outputs": [
    {
     "output_type": "display_data",
     "data": {
      "text/html": [
       "<style scoped>\n",
       "  .table-result-container {\n",
       "    max-height: 300px;\n",
       "    overflow: auto;\n",
       "  }\n",
       "  table, th, td {\n",
       "    border: 1px solid black;\n",
       "    border-collapse: collapse;\n",
       "  }\n",
       "  th, td {\n",
       "    padding: 5px;\n",
       "  }\n",
       "  th {\n",
       "    text-align: left;\n",
       "  }\n",
       "</style><div class='table-result-container'><table class='table-result'><thead style='background-color: white'><tr><th>rider_age_at_trip_start</th><th>avg_duration_in_minutes</th></tr></thead><tbody><tr><td>15.0</td><td>34.73</td></tr><tr><td>16.0</td><td>25.71</td></tr><tr><td>17.0</td><td>19.05</td></tr><tr><td>18.0</td><td>22.83</td></tr><tr><td>19.0</td><td>21.45</td></tr><tr><td>20.0</td><td>17.48</td></tr><tr><td>21.0</td><td>18.92</td></tr><tr><td>22.0</td><td>19.97</td></tr><tr><td>23.0</td><td>24.1</td></tr><tr><td>24.0</td><td>23.83</td></tr></tbody></table></div>"
      ]
     },
     "metadata": {
      "application/vnd.databricks.v1+output": {
       "addedWidgets": {},
       "aggData": [],
       "aggError": "",
       "aggOverflow": false,
       "aggSchema": [],
       "aggSeriesLimitReached": false,
       "aggType": "",
       "arguments": {},
       "columnCustomDisplayInfos": {},
       "data": [
        [
         15.0,
         34.73
        ],
        [
         16.0,
         25.71
        ],
        [
         17.0,
         19.05
        ],
        [
         18.0,
         22.83
        ],
        [
         19.0,
         21.45
        ],
        [
         20.0,
         17.48
        ],
        [
         21.0,
         18.92
        ],
        [
         22.0,
         19.97
        ],
        [
         23.0,
         24.1
        ],
        [
         24.0,
         23.83
        ]
       ],
       "datasetInfos": [],
       "dbfsResultPath": null,
       "isJsonSchema": true,
       "metadata": {},
       "overflow": false,
       "plotOptions": {
        "customPlotOptions": {},
        "displayType": "table",
        "pivotAggregation": null,
        "pivotColumns": null,
        "xColumns": null,
        "yColumns": null
       },
       "removedWidgets": [],
       "schema": [
        {
         "metadata": "{}",
         "name": "rider_age_at_trip_start",
         "type": "\"double\""
        },
        {
         "metadata": "{}",
         "name": "avg_duration_in_minutes",
         "type": "\"double\""
        }
       ],
       "type": "table"
      }
     }
    }
   ],
   "source": [
    "from pyspark.sql.functions import hour, round, unix_timestamp, year, to_date, avg, desc\n",
    "\n",
    "# Read trips from table\n",
    "df_trips = spark.table(\"gold_fact_trip\")\n",
    "\n",
    "# Group by rider age and aggregate average duration\n",
    "df_grouped = df_trips.groupBy(\"rider_age_at_trip_start\").agg(round(avg(\"duration_in_minutes\"), 2).alias(\"avg_duration_in_minutes\")).orderBy(\"rider_age_at_trip_start\")\n",
    "\n",
    "display(df_grouped.take(10))"
   ]
  },
  {
   "cell_type": "markdown",
   "metadata": {
    "application/vnd.databricks.v1+cell": {
     "cellMetadata": {
      "byteLimit": 2048000,
      "rowLimit": 10000
     },
     "inputWidgets": {},
     "nuid": "d2d59840-d4c0-49ee-8db5-105a8b5884d5",
     "showTitle": false,
     "tableResultSettingsMap": {},
     "title": ""
    }
   },
   "source": [
    "### Time spent per ride based on whether the rider is a member or a casual rider"
   ]
  },
  {
   "cell_type": "code",
   "execution_count": 0,
   "metadata": {
    "application/vnd.databricks.v1+cell": {
     "cellMetadata": {
      "byteLimit": 2048000,
      "rowLimit": 10000
     },
     "inputWidgets": {},
     "nuid": "de0a803b-f523-4f67-88db-99f7ab98b534",
     "showTitle": false,
     "tableResultSettingsMap": {},
     "title": ""
    }
   },
   "outputs": [
    {
     "output_type": "display_data",
     "data": {
      "text/html": [
       "<style scoped>\n",
       "  .table-result-container {\n",
       "    max-height: 300px;\n",
       "    overflow: auto;\n",
       "  }\n",
       "  table, th, td {\n",
       "    border: 1px solid black;\n",
       "    border-collapse: collapse;\n",
       "  }\n",
       "  th, td {\n",
       "    padding: 5px;\n",
       "  }\n",
       "  th {\n",
       "    text-align: left;\n",
       "  }\n",
       "</style><div class='table-result-container'><table class='table-result'><thead style='background-color: white'><tr><th>is_member</th><th>avg_duration_in_minutes</th></tr></thead><tbody><tr><td>true</td><td>21.3</td></tr><tr><td>false</td><td>21.2</td></tr></tbody></table></div>"
      ]
     },
     "metadata": {
      "application/vnd.databricks.v1+output": {
       "addedWidgets": {},
       "aggData": [],
       "aggError": "",
       "aggOverflow": false,
       "aggSchema": [],
       "aggSeriesLimitReached": false,
       "aggType": "",
       "arguments": {},
       "columnCustomDisplayInfos": {},
       "data": [
        [
         true,
         21.3
        ],
        [
         false,
         21.2
        ]
       ],
       "datasetInfos": [],
       "dbfsResultPath": null,
       "isJsonSchema": true,
       "metadata": {},
       "overflow": false,
       "plotOptions": {
        "customPlotOptions": {},
        "displayType": "table",
        "pivotAggregation": null,
        "pivotColumns": null,
        "xColumns": null,
        "yColumns": null
       },
       "removedWidgets": [],
       "schema": [
        {
         "metadata": "{}",
         "name": "is_member",
         "type": "\"boolean\""
        },
        {
         "metadata": "{}",
         "name": "avg_duration_in_minutes",
         "type": "\"double\""
        }
       ],
       "type": "table"
      }
     }
    }
   ],
   "source": [
    "from pyspark.sql.functions import hour, round, unix_timestamp, year, to_date, avg, desc\n",
    "\n",
    "# Read trips from table\n",
    "df_trips = spark.table(\"gold_fact_trip\")\n",
    "# Read riders from table\n",
    "df_riders = spark.table(\"gold_dim_rider\")\n",
    "\n",
    "# Join with rider dimension\n",
    "df_trips = df_trips.join(df_riders, \"rider_id\", \"inner\")\n",
    "\n",
    "# Group by membership type and aggragate average duration\n",
    "df_grouped = df_trips.groupBy(\"is_member\").agg(round(avg(\"duration_in_minutes\"), 2).alias(\"avg_duration_in_minutes\"))\n",
    "\n",
    "display(df_grouped)"
   ]
  },
  {
   "cell_type": "markdown",
   "metadata": {
    "application/vnd.databricks.v1+cell": {
     "cellMetadata": {
      "byteLimit": 2048000,
      "rowLimit": 10000
     },
     "inputWidgets": {},
     "nuid": "d1d07778-df3c-4299-a2de-df2a772873f2",
     "showTitle": false,
     "tableResultSettingsMap": {},
     "title": ""
    }
   },
   "source": [
    "### Money spent per month"
   ]
  },
  {
   "cell_type": "code",
   "execution_count": 0,
   "metadata": {
    "application/vnd.databricks.v1+cell": {
     "cellMetadata": {
      "byteLimit": 2048000,
      "rowLimit": 10000
     },
     "inputWidgets": {},
     "nuid": "7d06968b-ab9a-4e34-ab26-f869d79c48d4",
     "showTitle": false,
     "tableResultSettingsMap": {},
     "title": ""
    }
   },
   "outputs": [
    {
     "output_type": "display_data",
     "data": {
      "text/html": [
       "<style scoped>\n",
       "  .table-result-container {\n",
       "    max-height: 300px;\n",
       "    overflow: auto;\n",
       "  }\n",
       "  table, th, td {\n",
       "    border: 1px solid black;\n",
       "    border-collapse: collapse;\n",
       "  }\n",
       "  th, td {\n",
       "    padding: 5px;\n",
       "  }\n",
       "  th {\n",
       "    text-align: left;\n",
       "  }\n",
       "</style><div class='table-result-container'><table class='table-result'><thead style='background-color: white'><tr><th>month</th><th>money_spent</th></tr></thead><tbody><tr><td>1</td><td>1855960</td></tr><tr><td>2</td><td>1908071</td></tr><tr><td>3</td><td>1348931</td></tr><tr><td>4</td><td>1395922</td></tr><tr><td>5</td><td>1441363</td></tr><tr><td>6</td><td>1491380</td></tr><tr><td>7</td><td>1539179</td></tr><tr><td>8</td><td>40510690</td></tr><tr><td>9</td><td>1642068</td></tr><tr><td>10</td><td>1696403</td></tr><tr><td>11</td><td>1747391</td></tr><tr><td>12</td><td>1799954</td></tr></tbody></table></div>"
      ]
     },
     "metadata": {
      "application/vnd.databricks.v1+output": {
       "addedWidgets": {},
       "aggData": [],
       "aggError": "",
       "aggOverflow": false,
       "aggSchema": [],
       "aggSeriesLimitReached": false,
       "aggType": "",
       "arguments": {},
       "columnCustomDisplayInfos": {},
       "data": [
        [
         1,
         "1855960"
        ],
        [
         2,
         "1908071"
        ],
        [
         3,
         "1348931"
        ],
        [
         4,
         "1395922"
        ],
        [
         5,
         "1441363"
        ],
        [
         6,
         "1491380"
        ],
        [
         7,
         "1539179"
        ],
        [
         8,
         "40510690"
        ],
        [
         9,
         "1642068"
        ],
        [
         10,
         "1696403"
        ],
        [
         11,
         "1747391"
        ],
        [
         12,
         "1799954"
        ]
       ],
       "datasetInfos": [],
       "dbfsResultPath": null,
       "isJsonSchema": true,
       "metadata": {},
       "overflow": false,
       "plotOptions": {
        "customPlotOptions": {},
        "displayType": "table",
        "pivotAggregation": null,
        "pivotColumns": null,
        "xColumns": null,
        "yColumns": null
       },
       "removedWidgets": [],
       "schema": [
        {
         "metadata": "{}",
         "name": "month",
         "type": "\"long\""
        },
        {
         "metadata": "{}",
         "name": "money_spent",
         "type": "\"decimal(20,0)\""
        }
       ],
       "type": "table"
      }
     }
    }
   ],
   "source": [
    "from pyspark.sql.functions import sum\n",
    "\n",
    "# Read payments from table\n",
    "df_payments = spark.table(\"gold_fact_payment\")\n",
    "# Read dates from table\n",
    "df_dates = spark.table(\"gold_dim_date\")\n",
    "# Join with date dimension\n",
    "df_payments = df_payments.join(df_dates, \"date_id\", \"inner\")\n",
    "\n",
    "# Group by month and aggregate total amount\n",
    "df_grouped = df_payments.groupBy(\"month\").agg(sum(\"amount\").alias(\"money_spent\")).orderBy(\"month\")\n",
    "\n",
    "display(df_grouped)"
   ]
  },
  {
   "cell_type": "markdown",
   "metadata": {
    "application/vnd.databricks.v1+cell": {
     "cellMetadata": {
      "byteLimit": 2048000,
      "rowLimit": 10000
     },
     "inputWidgets": {},
     "nuid": "508839a4-1463-4908-a930-3eb5a85bb24e",
     "showTitle": false,
     "tableResultSettingsMap": {},
     "title": ""
    }
   },
   "source": [
    "### Money spent per quarter\n"
   ]
  },
  {
   "cell_type": "code",
   "execution_count": 0,
   "metadata": {
    "application/vnd.databricks.v1+cell": {
     "cellMetadata": {
      "byteLimit": 2048000,
      "rowLimit": 10000
     },
     "inputWidgets": {},
     "nuid": "07587dd9-807a-4dab-a9f4-f3363d0ce451",
     "showTitle": false,
     "tableResultSettingsMap": {},
     "title": ""
    }
   },
   "outputs": [
    {
     "output_type": "display_data",
     "data": {
      "text/html": [
       "<style scoped>\n",
       "  .table-result-container {\n",
       "    max-height: 300px;\n",
       "    overflow: auto;\n",
       "  }\n",
       "  table, th, td {\n",
       "    border: 1px solid black;\n",
       "    border-collapse: collapse;\n",
       "  }\n",
       "  th, td {\n",
       "    padding: 5px;\n",
       "  }\n",
       "  th {\n",
       "    text-align: left;\n",
       "  }\n",
       "</style><div class='table-result-container'><table class='table-result'><thead style='background-color: white'><tr><th>quarter</th><th>money_spent</th></tr></thead><tbody><tr><td>1</td><td>5112962</td></tr><tr><td>2</td><td>4328665</td></tr><tr><td>3</td><td>43691937</td></tr><tr><td>4</td><td>5243748</td></tr></tbody></table></div>"
      ]
     },
     "metadata": {
      "application/vnd.databricks.v1+output": {
       "addedWidgets": {},
       "aggData": [],
       "aggError": "",
       "aggOverflow": false,
       "aggSchema": [],
       "aggSeriesLimitReached": false,
       "aggType": "",
       "arguments": {},
       "columnCustomDisplayInfos": {},
       "data": [
        [
         1,
         "5112962"
        ],
        [
         2,
         "4328665"
        ],
        [
         3,
         "43691937"
        ],
        [
         4,
         "5243748"
        ]
       ],
       "datasetInfos": [],
       "dbfsResultPath": null,
       "isJsonSchema": true,
       "metadata": {},
       "overflow": false,
       "plotOptions": {
        "customPlotOptions": {},
        "displayType": "table",
        "pivotAggregation": null,
        "pivotColumns": null,
        "xColumns": null,
        "yColumns": null
       },
       "removedWidgets": [],
       "schema": [
        {
         "metadata": "{}",
         "name": "quarter",
         "type": "\"long\""
        },
        {
         "metadata": "{}",
         "name": "money_spent",
         "type": "\"decimal(20,0)\""
        }
       ],
       "type": "table"
      }
     }
    }
   ],
   "source": [
    "from pyspark.sql.functions import sum\n",
    "\n",
    "# Read payments from table\n",
    "df_payments = spark.table(\"gold_fact_payment\")\n",
    "# Read dates from table\n",
    "df_dates = spark.table(\"gold_dim_date\")\n",
    "# Join with date dimension\n",
    "df_payments = df_payments.join(df_dates, \"date_id\", \"inner\")\n",
    "\n",
    "# Group by quarter and aggregate total amount\n",
    "df_grouped = df_payments.groupBy(\"quarter\").agg(sum(\"amount\").alias(\"money_spent\")).orderBy(\"quarter\")\n",
    "\n",
    "display(df_grouped)"
   ]
  },
  {
   "cell_type": "markdown",
   "metadata": {
    "application/vnd.databricks.v1+cell": {
     "cellMetadata": {
      "byteLimit": 2048000,
      "rowLimit": 10000
     },
     "inputWidgets": {},
     "nuid": "7cbfd5a7-e4f5-4d32-ae84-87667d66714d",
     "showTitle": false,
     "tableResultSettingsMap": {},
     "title": ""
    }
   },
   "source": [
    "### Money spent per year\n"
   ]
  },
  {
   "cell_type": "code",
   "execution_count": 0,
   "metadata": {
    "application/vnd.databricks.v1+cell": {
     "cellMetadata": {
      "byteLimit": 2048000,
      "rowLimit": 10000
     },
     "inputWidgets": {},
     "nuid": "99b443df-26df-4f30-adc9-400bbd4f366a",
     "showTitle": false,
     "tableResultSettingsMap": {},
     "title": ""
    }
   },
   "outputs": [
    {
     "output_type": "display_data",
     "data": {
      "text/html": [
       "<style scoped>\n",
       "  .table-result-container {\n",
       "    max-height: 300px;\n",
       "    overflow: auto;\n",
       "  }\n",
       "  table, th, td {\n",
       "    border: 1px solid black;\n",
       "    border-collapse: collapse;\n",
       "  }\n",
       "  th, td {\n",
       "    padding: 5px;\n",
       "  }\n",
       "  th {\n",
       "    text-align: left;\n",
       "  }\n",
       "</style><div class='table-result-container'><table class='table-result'><thead style='background-color: white'><tr><th>year</th><th>money_spent</th></tr></thead><tbody><tr><td>2013</td><td>53705</td></tr><tr><td>2014</td><td>227451</td></tr><tr><td>2015</td><td>477229</td></tr><tr><td>2016</td><td>825176</td></tr><tr><td>2017</td><td>1308377</td></tr><tr><td>2018</td><td>2000331</td></tr><tr><td>2019</td><td>2979094</td></tr><tr><td>2020</td><td>4315927</td></tr><tr><td>2021</td><td>44999864</td></tr><tr><td>2022</td><td>1190158</td></tr></tbody></table></div>"
      ]
     },
     "metadata": {
      "application/vnd.databricks.v1+output": {
       "addedWidgets": {},
       "aggData": [],
       "aggError": "",
       "aggOverflow": false,
       "aggSchema": [],
       "aggSeriesLimitReached": false,
       "aggType": "",
       "arguments": {},
       "columnCustomDisplayInfos": {},
       "data": [
        [
         2013,
         "53705"
        ],
        [
         2014,
         "227451"
        ],
        [
         2015,
         "477229"
        ],
        [
         2016,
         "825176"
        ],
        [
         2017,
         "1308377"
        ],
        [
         2018,
         "2000331"
        ],
        [
         2019,
         "2979094"
        ],
        [
         2020,
         "4315927"
        ],
        [
         2021,
         "44999864"
        ],
        [
         2022,
         "1190158"
        ]
       ],
       "datasetInfos": [],
       "dbfsResultPath": null,
       "isJsonSchema": true,
       "metadata": {},
       "overflow": false,
       "plotOptions": {
        "customPlotOptions": {},
        "displayType": "table",
        "pivotAggregation": null,
        "pivotColumns": null,
        "xColumns": null,
        "yColumns": null
       },
       "removedWidgets": [],
       "schema": [
        {
         "metadata": "{}",
         "name": "year",
         "type": "\"long\""
        },
        {
         "metadata": "{}",
         "name": "money_spent",
         "type": "\"decimal(20,0)\""
        }
       ],
       "type": "table"
      }
     }
    }
   ],
   "source": [
    "from pyspark.sql.functions import sum\n",
    "\n",
    "# Read payments from table\n",
    "df_payments = spark.table(\"gold_fact_payment\")\n",
    "# Read dates from table\n",
    "df_dates = spark.table(\"gold_dim_date\")\n",
    "# Join with date dimension\n",
    "df_payments = df_payments.join(df_dates, \"date_id\", \"inner\")\n",
    "\n",
    "# Group by year and aggregate total amount\n",
    "df_grouped = df_payments.groupBy(\"year\").agg(sum(\"amount\").alias(\"money_spent\")).orderBy(\"year\")\n",
    "\n",
    "display(df_grouped)"
   ]
  },
  {
   "cell_type": "markdown",
   "metadata": {
    "application/vnd.databricks.v1+cell": {
     "cellMetadata": {
      "byteLimit": 2048000,
      "rowLimit": 10000
     },
     "inputWidgets": {},
     "nuid": "639e7b39-823f-42f7-b064-301321741574",
     "showTitle": false,
     "tableResultSettingsMap": {},
     "title": ""
    }
   },
   "source": [
    "### Money spent per member based on how many rides the rider averages per month"
   ]
  },
  {
   "cell_type": "code",
   "execution_count": 0,
   "metadata": {
    "application/vnd.databricks.v1+cell": {
     "cellMetadata": {
      "byteLimit": 2048000,
      "rowLimit": 10000
     },
     "inputWidgets": {},
     "nuid": "3abe98f8-2811-4f14-853a-0b86741f5b70",
     "showTitle": false,
     "tableResultSettingsMap": {},
     "title": ""
    }
   },
   "outputs": [
    {
     "output_type": "display_data",
     "data": {
      "text/html": [
       "<style scoped>\n",
       "  .table-result-container {\n",
       "    max-height: 300px;\n",
       "    overflow: auto;\n",
       "  }\n",
       "  table, th, td {\n",
       "    border: 1px solid black;\n",
       "    border-collapse: collapse;\n",
       "  }\n",
       "  th, td {\n",
       "    padding: 5px;\n",
       "  }\n",
       "  th {\n",
       "    text-align: left;\n",
       "  }\n",
       "</style><div class='table-result-container'><table class='table-result'><thead style='background-color: white'><tr><th>rider_id</th><th>money_spent_per_trips_per_month</th></tr></thead><tbody><tr><td>73683</td><td>8.20353982300885</td></tr><tr><td>51415</td><td>167.13000000000002</td></tr><tr><td>39285</td><td>149.42636363636362</td></tr><tr><td>53963</td><td>64.99858361774744</td></tr><tr><td>37251</td><td>191.49012605042017</td></tr><tr><td>46266</td><td>3.0796363636363635</td></tr><tr><td>4935</td><td>16.779071274298055</td></tr><tr><td>8086</td><td>3.210847975553858</td></tr><tr><td>5300</td><td>40.45869402985075</td></tr><tr><td>11858</td><td>29.33237288135593</td></tr></tbody></table></div>"
      ]
     },
     "metadata": {
      "application/vnd.databricks.v1+output": {
       "addedWidgets": {},
       "aggData": [],
       "aggError": "",
       "aggOverflow": false,
       "aggSchema": [],
       "aggSeriesLimitReached": false,
       "aggType": "",
       "arguments": {},
       "columnCustomDisplayInfos": {},
       "data": [
        [
         73683,
         8.20353982300885
        ],
        [
         51415,
         167.13000000000002
        ],
        [
         39285,
         149.42636363636362
        ],
        [
         53963,
         64.99858361774744
        ],
        [
         37251,
         191.49012605042017
        ],
        [
         46266,
         3.0796363636363635
        ],
        [
         4935,
         16.779071274298055
        ],
        [
         8086,
         3.210847975553858
        ],
        [
         5300,
         40.45869402985075
        ],
        [
         11858,
         29.33237288135593
        ]
       ],
       "datasetInfos": [],
       "dbfsResultPath": null,
       "isJsonSchema": true,
       "metadata": {},
       "overflow": false,
       "plotOptions": {
        "customPlotOptions": {},
        "displayType": "table",
        "pivotAggregation": null,
        "pivotColumns": null,
        "xColumns": null,
        "yColumns": null
       },
       "removedWidgets": [],
       "schema": [
        {
         "metadata": "{}",
         "name": "rider_id",
         "type": "\"long\""
        },
        {
         "metadata": "{}",
         "name": "money_spent_per_trips_per_month",
         "type": "\"double\""
        }
       ],
       "type": "table"
      }
     }
    }
   ],
   "source": [
    "from pyspark.sql.functions import when, col, current_timestamp\n",
    "\n",
    "# Read trips from table\n",
    "df_trips = spark.table(\"gold_fact_trip\")\n",
    "# Group by rider and count trips\n",
    "df_trips = df_trips.groupBy(\"rider_id\").count().withColumnRenamed(\"count\", \"trip_count\")\n",
    "\n",
    "# Read payments from table\n",
    "df_payments = spark.table(\"gold_fact_payment\")\n",
    "# Group by rider and sum up amount\n",
    "df_payments = df_payments.groupBy(\"rider_id\").agg(sum(\"amount\").alias(\"money_spent\"))\n",
    "\n",
    "# Read riders from table\n",
    "df_riders = spark.table(\"gold_dim_rider\")\n",
    "# Calculate account duration in months (use current date as end date if not set)\n",
    "df_riders = df_riders.withColumn(\"account_duration_in_months\", round((unix_timestamp(when(col(\"account_end_date\").isNull(), current_timestamp()).otherwise(col(\"account_end_date\"))) - unix_timestamp(col(\"account_start_date\"))) / 60 / 60 / 24 / 30, 2))\n",
    "# Join riders with trips and payments\n",
    "df_riders = df_riders.join(df_trips, \"rider_id\", \"inner\").join(df_payments, \"rider_id\", \"inner\")\n",
    "# Calculate money spent per monthly trips\n",
    "df_riders = df_riders.withColumn(\"money_spent_per_trips_per_month\", col(\"money_spent\") / (col(\"trip_count\") / col(\"account_duration_in_months\")))\n",
    "# Filter out non-members\n",
    "df_riders = df_riders.filter(df_riders.is_member)\n",
    "# Select colums\n",
    "df_riders = df_riders.select(\"rider_id\", \"money_spent_per_trips_per_month\")\n",
    "\n",
    "display(df_riders.take(10))"
   ]
  },
  {
   "cell_type": "markdown",
   "metadata": {
    "application/vnd.databricks.v1+cell": {
     "cellMetadata": {
      "byteLimit": 2048000,
      "rowLimit": 10000
     },
     "inputWidgets": {},
     "nuid": "4a8824ab-438e-4370-abcd-161a8e188f71",
     "showTitle": false,
     "tableResultSettingsMap": {},
     "title": ""
    }
   },
   "source": [
    "### Money spent per member based on how many minutes the rider spends on a bike per month"
   ]
  },
  {
   "cell_type": "code",
   "execution_count": 0,
   "metadata": {
    "application/vnd.databricks.v1+cell": {
     "cellMetadata": {
      "byteLimit": 2048000,
      "rowLimit": 10000
     },
     "inputWidgets": {},
     "nuid": "8b8ce684-999a-46cb-95b1-5f965e05d6e8",
     "showTitle": false,
     "tableResultSettingsMap": {},
     "title": ""
    }
   },
   "outputs": [
    {
     "output_type": "display_data",
     "data": {
      "text/html": [
       "<style scoped>\n",
       "  .table-result-container {\n",
       "    max-height: 300px;\n",
       "    overflow: auto;\n",
       "  }\n",
       "  table, th, td {\n",
       "    border: 1px solid black;\n",
       "    border-collapse: collapse;\n",
       "  }\n",
       "  th, td {\n",
       "    padding: 5px;\n",
       "  }\n",
       "  th {\n",
       "    text-align: left;\n",
       "  }\n",
       "</style><div class='table-result-container'><table class='table-result'><thead style='background-color: white'><tr><th>rider_id</th><th>money_spent_per_duration_per_month</th></tr></thead><tbody><tr><td>73683</td><td>0.5566848725239684</td></tr><tr><td>51415</td><td>5.100091547146781</td></tr><tr><td>39285</td><td>6.3075667981583114</td></tr><tr><td>53963</td><td>2.524422614388529</td></tr><tr><td>37251</td><td>4.521088323350324</td></tr><tr><td>46266</td><td>0.14334072406614426</td></tr><tr><td>4935</td><td>1.0158549374563581</td></tr><tr><td>8086</td><td>0.057634500727938964</td></tr><tr><td>5300</td><td>2.4512216625824013</td></tr><tr><td>11858</td><td>2.128540680154972</td></tr></tbody></table></div>"
      ]
     },
     "metadata": {
      "application/vnd.databricks.v1+output": {
       "addedWidgets": {},
       "aggData": [],
       "aggError": "",
       "aggOverflow": false,
       "aggSchema": [],
       "aggSeriesLimitReached": false,
       "aggType": "",
       "arguments": {},
       "columnCustomDisplayInfos": {},
       "data": [
        [
         73683,
         0.5566848725239684
        ],
        [
         51415,
         5.100091547146781
        ],
        [
         39285,
         6.3075667981583114
        ],
        [
         53963,
         2.524422614388529
        ],
        [
         37251,
         4.521088323350324
        ],
        [
         46266,
         0.14334072406614426
        ],
        [
         4935,
         1.0158549374563581
        ],
        [
         8086,
         0.057634500727938964
        ],
        [
         5300,
         2.4512216625824013
        ],
        [
         11858,
         2.128540680154972
        ]
       ],
       "datasetInfos": [],
       "dbfsResultPath": null,
       "isJsonSchema": true,
       "metadata": {},
       "overflow": false,
       "plotOptions": {
        "customPlotOptions": {},
        "displayType": "table",
        "pivotAggregation": null,
        "pivotColumns": null,
        "xColumns": null,
        "yColumns": null
       },
       "removedWidgets": [],
       "schema": [
        {
         "metadata": "{}",
         "name": "rider_id",
         "type": "\"long\""
        },
        {
         "metadata": "{}",
         "name": "money_spent_per_duration_per_month",
         "type": "\"double\""
        }
       ],
       "type": "table"
      }
     }
    }
   ],
   "source": [
    "from pyspark.sql.functions import when, col, current_timestamp, sum\n",
    "\n",
    "# Read trips from table\n",
    "df_trips = spark.table(\"gold_fact_trip\")\n",
    "# Group by rider and sum up duration\n",
    "df_trips = df_trips.groupBy(\"rider_id\").agg(sum(\"duration_in_minutes\").alias(\"total_duration_in_minutes\"))\n",
    "\n",
    "# Read payments from table\n",
    "df_payments = spark.table(\"gold_fact_payment\")\n",
    "# Group by rider and sum up amount\n",
    "df_payments = df_payments.groupBy(\"rider_id\").agg(sum(\"amount\").alias(\"money_spent\"))\n",
    "\n",
    "# Read riders from table\n",
    "df_riders = spark.table(\"gold_dim_rider\")\n",
    "# Calculate account duration in months (use current date as end date if not set)\n",
    "df_riders = df_riders.withColumn(\"account_duration_in_months\", round((unix_timestamp(when(col(\"account_end_date\").isNull(), current_timestamp()).otherwise(col(\"account_end_date\"))) - unix_timestamp(col(\"account_start_date\"))) / 60 / 60 / 24 / 30, 2))\n",
    "# Join riders with trips and payments\n",
    "df_riders = df_riders.join(df_trips, \"rider_id\", \"inner\").join(df_payments, \"rider_id\", \"inner\")\n",
    "# Calculate money spent per monthly trip duration\n",
    "df_riders = df_riders.withColumn(\"money_spent_per_duration_per_month\", col(\"money_spent\") / (col(\"total_duration_in_minutes\") / col(\"account_duration_in_months\")))\n",
    "# Filter out non-members\n",
    "df_riders = df_riders.filter(col('is_member') == True)\n",
    "# Select colums\n",
    "df_riders = df_riders.select(\"rider_id\", \"money_spent_per_duration_per_month\")\n",
    "\n",
    "display(df_riders.take(10))"
   ]
  }
 ],
 "metadata": {
  "application/vnd.databricks.v1+notebook": {
   "computePreferences": null,
   "dashboards": [],
   "environmentMetadata": null,
   "language": "python",
   "notebookMetadata": {
    "mostRecentlyExecutedCommandWithImplicitDF": {
     "commandId": -1,
     "dataframes": [
      "_sqldf"
     ]
    },
    "pythonIndentUnit": 4
   },
   "notebookName": "bike-share-data",
   "widgets": {}
  },
  "language_info": {
   "name": "python"
  }
 },
 "nbformat": 4,
 "nbformat_minor": 0
}
